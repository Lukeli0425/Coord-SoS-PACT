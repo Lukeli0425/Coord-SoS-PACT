{
 "cells": [
  {
   "cell_type": "code",
   "execution_count": 13,
   "metadata": {},
   "outputs": [],
   "source": [
    "import sys\n",
    "\n",
    "sys.path.append('..')\n",
    "\n",
    "import matplotlib.pyplot as plt\n",
    "import numpy as np\n",
    "from matplotlib.colors import Normalize\n",
    "\n",
    "from utils.dataio import *\n",
    "from utils.visualization import *\n",
    "\n",
    "DATA_DIR = '../data/'\n",
    "RESULTS_DIR = '../results_new/kidney/'"
   ]
  },
  {
   "cell_type": "code",
   "execution_count": 14,
   "metadata": {},
   "outputs": [],
   "source": [
    "# Load configuration file.\n",
    "config = load_config('../config.yaml')"
   ]
  },
  {
   "cell_type": "markdown",
   "metadata": {},
   "source": [
    "### In vivo Mouse Kidney"
   ]
  },
  {
   "cell_type": "code",
   "execution_count": 15,
   "metadata": {},
   "outputs": [],
   "source": [
    "task_params = config['kidney']\n",
    "IP_max, IP_min, SOS_max, SOS_min = task_params['IP_max'], task_params['IP_min'], task_params['SOS_max'], task_params['SOS_min']\n",
    "norm_IP = Normalize(vmax=IP_max, vmin=IP_min)\n",
    "norm_SOS = Normalize(vmax=SOS_max, vmin=SOS_min)"
   ]
  },
  {
   "cell_type": "markdown",
   "metadata": {},
   "source": [
    "#### NF-APACT"
   ]
  },
  {
   "cell_type": "code",
   "execution_count": 16,
   "metadata": {},
   "outputs": [
    {
     "name": "stdout",
     "output_type": "stream",
     "text": [
      "1535.450489577489 29.341525539552542\n"
     ]
    },
    {
     "ename": "NameError",
     "evalue": "name 'n_layers_list' is not defined",
     "output_type": "error",
     "traceback": [
      "\u001b[0;31m---------------------------------------------------------------------------\u001b[0m",
      "\u001b[0;31mNameError\u001b[0m                                 Traceback (most recent call last)",
      "Cell \u001b[0;32mIn[16], line 7\u001b[0m\n\u001b[1;32m      5\u001b[0m IP_rec \u001b[38;5;241m=\u001b[39m standardize(IP_rec)\n\u001b[1;32m      6\u001b[0m log \u001b[38;5;241m=\u001b[39m load_log(os\u001b[38;5;241m.\u001b[39mpath\u001b[38;5;241m.\u001b[39mjoin(RESULTS_DIR, \u001b[38;5;124m'\u001b[39m\u001b[38;5;124mNF-APACT\u001b[39m\u001b[38;5;124m'\u001b[39m, params, \u001b[38;5;124m'\u001b[39m\u001b[38;5;124mlog.json\u001b[39m\u001b[38;5;124m'\u001b[39m))\n\u001b[0;32m----> 7\u001b[0m ax \u001b[38;5;241m=\u001b[39m plt\u001b[38;5;241m.\u001b[39msubplot(\u001b[38;5;241m2\u001b[39m\u001b[38;5;241m*\u001b[39m\u001b[38;5;28mlen\u001b[39m(n_layers_list),\u001b[38;5;28mlen\u001b[39m(n_hidden_fts_list),i\u001b[38;5;241m+\u001b[39m\u001b[38;5;241m1\u001b[39m\u001b[38;5;241m+\u001b[39m\u001b[38;5;28mlen\u001b[39m(n_hidden_fts_list)\u001b[38;5;241m*\u001b[39m\u001b[38;5;241m2\u001b[39m\u001b[38;5;241m*\u001b[39mj)\n\u001b[1;32m      8\u001b[0m plt\u001b[38;5;241m.\u001b[39mimshow(IP_rec, cmap\u001b[38;5;241m=\u001b[39m\u001b[38;5;124m'\u001b[39m\u001b[38;5;124mgray\u001b[39m\u001b[38;5;124m'\u001b[39m, norm\u001b[38;5;241m=\u001b[39mnorm_IP)\n\u001b[1;32m      9\u001b[0m plt\u001b[38;5;241m.\u001b[39mxticks([])\n",
      "\u001b[0;31mNameError\u001b[0m: name 'n_layers_list' is not defined"
     ]
    }
   ],
   "source": [
    "params = '{}delays_{}lyrs_{}fts_TV={:.1e}_lr={:.1e}_{}iters'.format(32, 1, 64, 1e-5, 2e-4, 30)\n",
    "IP_rec = load_mat(os.path.join(RESULTS_DIR, 'NF-APACT', params, 'IP_rec.mat'))\n",
    "SOS_rec = load_mat(os.path.join(RESULTS_DIR, 'NF-APACT', params, 'SOS_rec.mat'))\n",
    "print(SOS_rec.mean(), SOS_rec.std())\n",
    "IP_rec = standardize(IP_rec)\n",
    "log = load_log(os.path.join(RESULTS_DIR, 'NF-APACT', params, 'log.json'))\n",
    "ax = plt.subplot(2*len(n_layers_list),len(n_hidden_fts_list),i+1+len(n_hidden_fts_list)*2*j)\n",
    "plt.imshow(IP_rec, cmap='gray', norm=norm_IP)\n",
    "plt.xticks([])\n",
    "plt.yticks([])\n",
    "plt.text(s='t={:.1f}s'.format(log['time']), x=12, y=625, fontsize=11, color='white')\n",
    "if j == 0:\n",
    "    plt.title('{} hidden features'.format(n_hidden_fts), fontsize=14)\n",
    "if i == 0:\n",
    "    plt.ylabel('{} hidden layers'.format(n_layers), fontsize=14)\n",
    "if (i+1) % len(n_hidden_fts_list) == 0:\n",
    "    cax = fig.add_axes([ax.get_position().x1+0.01, ax.get_position().y0, 0.012, ax.get_position().height])\n",
    "    cb = plt.colorbar(cax=cax, norm=norm_IP)\n",
    "    cb.set_ticks([IP_max, IP_min])\n",
    "    cb.set_ticklabels(['Max', 'Min'], fontsize=12)\n",
    "\n",
    "ax = plt.subplot(2*len(n_layers_list),len(n_hidden_fts_list),i+1+len(n_hidden_fts_list)*(1+2*j))\n",
    "plt.imshow(SOS_rec, cmap='magma', norm=norm_SOS)\n",
    "plt.xticks([])\n",
    "plt.yticks([])\n",
    "if i == 0:\n",
    "    plt.ylabel('{} hidden layers'.format(n_layers), fontsize=14)\n",
    "if (i+1) % len(n_hidden_fts_list) == 0:\n",
    "    cax = fig.add_axes([ax.get_position().x1+0.01, ax.get_position().y0, 0.012, ax.get_position().height])\n",
    "    cb = plt.colorbar(cax=cax, norm=norm_SOS)"
   ]
  }
 ],
 "metadata": {
  "kernelspec": {
   "display_name": "pact",
   "language": "python",
   "name": "python3"
  },
  "language_info": {
   "codemirror_mode": {
    "name": "ipython",
    "version": 3
   },
   "file_extension": ".py",
   "mimetype": "text/x-python",
   "name": "python",
   "nbconvert_exporter": "python",
   "pygments_lexer": "ipython3",
   "version": "3.11.9"
  }
 },
 "nbformat": 4,
 "nbformat_minor": 2
}
