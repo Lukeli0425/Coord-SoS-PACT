{
 "cells": [
  {
   "cell_type": "code",
   "execution_count": 1,
   "metadata": {},
   "outputs": [
    {
     "name": "stderr",
     "output_type": "stream",
     "text": [
      "/home/tianaoli/.conda/envs/pact/lib/python3.8/site-packages/tqdm/auto.py:22: TqdmWarning: IProgress not found. Please update jupyter and ipywidgets. See https://ipywidgets.readthedocs.io/en/stable/user_install.html\n",
      "  from .autonotebook import tqdm as notebook_tqdm\n"
     ]
    }
   ],
   "source": [
    "import os\n",
    "import sys\n",
    "sys.path.append('../')\n",
    "import numpy as np\n",
    "import scipy.io as scio\n",
    "import h5py\n",
    "from numpy.fft import fft2, ifft2, fftshift, ifftshift\n",
    "import cv2\n",
    "import torch\n",
    "from torch import nn\n",
    "import torch.nn.functional as F\n",
    "from torchvision.transforms.functional import adjust_sharpness\n",
    "import numba\n",
    "import matplotlib\n",
    "import matplotlib.pyplot as plt\n",
    "import matplotlib.patches as mpatches\n",
    "import json\n",
    "\n",
    "%matplotlib inline"
   ]
  },
  {
   "cell_type": "code",
   "execution_count": 2,
   "metadata": {},
   "outputs": [
    {
     "name": "stdout",
     "output_type": "stream",
     "text": [
      "151\n"
     ]
    }
   ],
   "source": [
    "section_path = '/mnt/WD6TB/tianaoli/brains/'\n",
    "files = os.listdir(section_path)\n",
    "print(len(files))"
   ]
  },
  {
   "cell_type": "markdown",
   "metadata": {},
   "source": [
    "Prepare edge operators."
   ]
  },
  {
   "cell_type": "code",
   "execution_count": 3,
   "metadata": {},
   "outputs": [],
   "source": [
    "laplacian = torch.tensor([[[[-1, -1, -1],\n",
    "                            [-1, 9, -1],\n",
    "                            [-1, -1, -1]]]], dtype=torch.float32)\n",
    "sobelx = torch.tensor([[[[-1, -2, -1],\n",
    "                        [0, 0, 0],\n",
    "                        [1, 2, 1]]]], dtype=torch.float32)\n",
    "sobely = torch.tensor([[[[-1, 0, 1],\n",
    "                        [-2, 0, 2],\n",
    "                        [-1, 0, 1]]]], dtype=torch.float32)\n",
    "\n",
    "Laplacian = nn.Conv2d(1, 1, kernel_size=3, stride=1, padding='same', bias=False)\n",
    "Laplacian.weight = nn.Parameter(laplacian, requires_grad=False)\n",
    "Sobelx = nn.Conv2d(1, 1, kernel_size=3, stride=1, padding='same', bias=False)\n",
    "Sobelx.weight = nn.Parameter(sobelx, requires_grad=False)\n",
    "Sobely = nn.Conv2d(1, 1, kernel_size=3, stride=1, padding='same', bias=False)\n",
    "Sobely.weight = nn.Parameter(sobely, requires_grad=False)\n",
    "\n",
    "alpha, beta = 3.4, 7.5 # Weighting parameters for first and second order derivatives."
   ]
  },
  {
   "cell_type": "code",
   "execution_count": 4,
   "metadata": {},
   "outputs": [],
   "source": [
    "info_file = 'section.json'\n",
    "with open(info_file, 'r') as f:\n",
    "    info = json.load(f)\n",
    "section_data = info[\"data\"]"
   ]
  },
  {
   "cell_type": "code",
   "execution_count": 5,
   "metadata": {},
   "outputs": [],
   "source": [
    "# y_sec = 170\n",
    "# center = [119, 130]\n",
    "# for idx, file in enumerate(files):\n",
    "    # if not idx == 151:\n",
    "    #     continue\n",
    "np.random.shuffle(section_data)    # Shuffling.\n",
    "for idx, data in enumerate(section_data):\n",
    "    idx_file, y_sec, center = data['idx'], data['y_sec'], data['center']\n",
    "    data = scio.loadmat(os.path.join(section_path, files[idx_file]))\n",
    "    brain3d = data['recondata_cut_mc_bgb']\n",
    "   \n",
    "    section = brain3d[:,y_sec,:]\n",
    "    section = torch.tensor(section[center[0]-85:center[0]+86, center[1]-85:center[1]+86]).unsqueeze(0).unsqueeze(0)\n",
    "    section = (section - section.min()) / (section.max() - section.min())\n",
    "    section = F.interpolate(section, scale_factor=1.5, mode='bilinear')\n",
    "    \n",
    "    edge2 = Laplacian(section).abs().squeeze(0).squeeze(0)\n",
    "    edge1x = Sobelx(section).squeeze(0).squeeze(0)\n",
    "    edge1y = Sobely(section).squeeze(0).squeeze(0)\n",
    "    edge1 = torch.sqrt(edge1x**2 + edge1y**2)\n",
    "    section = section.squeeze(0).squeeze(0)\n",
    "    section_sharp = section + edge1 * alpha + edge2 * beta\n",
    "    section_sharp = (section_sharp - section_sharp.min()) / (section_sharp.max() - section_sharp.min())\n",
    "    \n",
    "    \n",
    "    # Visualization\n",
    "    # plt.figure(figsize=(15, 6))\n",
    "    # for i in range(10):\n",
    "    #     plt.subplot(2,5,i+1)\n",
    "    #     y_sec = i * 10 + 110\n",
    "    #     # y_sec = i * 20 + 10\n",
    "    #     plt.imshow(brain3d[:,y_sec,:])\n",
    "    #     plt.title(f'y_sec={y_sec}')\n",
    "\n",
    "    fig = plt.figure(figsize=(12, 6))\n",
    "    ax1 = plt.subplot(1,2,1)\n",
    "    plt.imshow(section)\n",
    "    plt.title(f'Section ({idx_file})', fontsize=13)\n",
    "    ax2 = plt.subplot(1,2,2)\n",
    "    plt.imshow(section_sharp)\n",
    "    plt.title('Sharpned Image', fontsize=13)\n",
    "    plt.tight_layout()\n",
    "    plt.savefig(f'/mnt/WD6TB/tianaoli/dataset/Brain/sections/vis/{idx}.jpg', bbox_inches='tight')\n",
    "    plt.close()\n",
    "    \n",
    "    # Save the images.\n",
    "    np.save(f'/mnt/WD6TB/tianaoli/dataset/Brain/sections/{idx}.npy', section_sharp)"
   ]
  }
 ],
 "metadata": {
  "kernelspec": {
   "display_name": "pact",
   "language": "python",
   "name": "python3"
  },
  "language_info": {
   "codemirror_mode": {
    "name": "ipython",
    "version": 3
   },
   "file_extension": ".py",
   "mimetype": "text/x-python",
   "name": "python",
   "nbconvert_exporter": "python",
   "pygments_lexer": "ipython3",
   "version": "3.9.18"
  },
  "orig_nbformat": 4
 },
 "nbformat": 4,
 "nbformat_minor": 2
}
