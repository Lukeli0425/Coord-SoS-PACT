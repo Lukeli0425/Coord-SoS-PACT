{
 "cells": [
  {
   "cell_type": "code",
   "execution_count": null,
   "metadata": {},
   "outputs": [],
   "source": [
    "import os\n",
    "import sys\n",
    "\n",
    "sys.path.append('../')\n",
    "\n",
    "import h5py\n",
    "import matplotlib\n",
    "import matplotlib.gridspec as gridspec\n",
    "import matplotlib.pyplot as plt\n",
    "import numba\n",
    "import numpy as np\n",
    "import torch\n",
    "from numpy.fft import fft, fft2, fftshift, ifft, ifft2, ifftshift\n",
    "from tqdm import tqdm\n",
    "\n",
    "from kwave.ktransducer import *\n",
    "from kwave.utils import *\n",
    "from models.ADMM import ADMM_Batched\n",
    "from models.APACT import APACT\n",
    "from models.WienerNet import Wiener_Batched\n",
    "from utils.data import load_mat\n",
    "from utils.simulations import PSF, get_water_SoS, wavefront_real\n",
    "from utils.utils_torch import get_fourier_coord\n",
    "from utils.visualization import normalize, standardize\n",
    "from utils.reconstruction import *\n",
    "\n",
    "os.environ[\"CUDA_VISIBLE_DEVICES\"] = '1'\n",
    "device = torch.device(\"cuda:0\" if torch.cuda.is_available() else \"cpu\")\n",
    "\n",
    "data_path = '../data/'"
   ]
  },
  {
   "attachments": {},
   "cell_type": "markdown",
   "metadata": {},
   "source": [
    "### Load in Phantom Data"
   ]
  },
  {
   "cell_type": "code",
   "execution_count": null,
   "metadata": {},
   "outputs": [],
   "source": [
    "sinogram = load_mat(os.path.join(data_path, 'LEAF_PHANTOM.mat'))\\\n",
    "\n",
    "plt.subplots(figsize=(16,5))\n",
    "plt.imshow(sinogram, cmap='gray')\n",
    "plt.show()"
   ]
  },
  {
   "cell_type": "markdown",
   "metadata": {},
   "source": [
    "### Load and Deconvolve EIR"
   ]
  },
  {
   "cell_type": "code",
   "execution_count": null,
   "metadata": {},
   "outputs": [],
   "source": [
    "EIR = load_mat(os.path.join(data_path, 'EIR_TUNGSTEN.mat'))\n",
    "\n",
    "time = np.linspace(0, 2000, 2000)\n",
    "plt.figure(figsize=(16,4))\n",
    "plt.plot(time, np.squeeze(EIR[:2000]))\n",
    "plt.xlim(0, 2000)\n",
    "plt.tight_layout()"
   ]
  },
  {
   "cell_type": "code",
   "execution_count": null,
   "metadata": {},
   "outputs": [],
   "source": [
    "def deconvolve_sinogram(sinogram, EIR, t0):\n",
    "    \"\"\"Correct EIR phase of the sinogram.\n",
    "\n",
    "    Args:\n",
    "        sinogram (`numpy.array`): _description_\n",
    "        EIR (`numpy.array`): EIR of the transducer.\n",
    "        t0 (`int`): Time index of the EIR peak.\n",
    "\n",
    "    Returns:\n",
    "        `numpy.array`: The corrected sinogrm.\n",
    "    \"\"\"\n",
    "    delta = np.zeros_like(EIR)\n",
    "    delta[0, t0] = 1\n",
    "    delta_ft = fft(delta, axis=1)\n",
    "    EIR_ft = fft(EIR, axis=1)\n",
    "    Sinogram_ft = fft(sinogram, axis=1)\n",
    "    Sinogram_ft *= np.exp(1j * (np.angle(delta_ft) - np.angle(EIR_ft)))\n",
    "    \n",
    "    return np.real((ifft(Sinogram_ft, axis=1)))\n",
    "\n",
    "t0 = np.argmax(EIR)    \n",
    "sinogram_deconv = deconvolve_sinogram(sinogram, EIR, t0)\n",
    "plt.subplots(figsize=(16,5))\n",
    "plt.imshow(sinogram_deconv, cmap='gray')\n",
    "plt.show()"
   ]
  },
  {
   "cell_type": "code",
   "execution_count": null,
   "metadata": {},
   "outputs": [],
   "source": [
    "Nx, Ny = 800, 800\n",
    "R_ring = 0.05   # Radius of the ring array [m].\n",
    "dx, dy = 4e-5, 4e-5\n",
    "kgrid = kWaveGrid([Nx, Ny], [dx, dy])"
   ]
  },
  {
   "cell_type": "code",
   "execution_count": null,
   "metadata": {},
   "outputs": [],
   "source": [
    "R = 12.5e-3 # Radius to center [m].\n",
    "l = 3.2e-3 # Patch size [m].\n",
    "T = 26.0 # Temperature of water [C].\n",
    "v0 = get_water_SoS(T) # Background SoS [m/s].\n",
    "v1 = 1519 # Avergae SoS in tissue [m/s].\n",
    "\n",
    "print(v0, v1)"
   ]
  },
  {
   "cell_type": "markdown",
   "metadata": {},
   "source": [
    "Load ring error."
   ]
  },
  {
   "cell_type": "code",
   "execution_count": null,
   "metadata": {},
   "outputs": [],
   "source": [
    "data = h5py.File(os.path.join(data_path, 'RING_ERROR_NEW.mat'))\n",
    "ring_error, transducer_theta = np.array(data['e'])[:,0], np.array(data['transducer_theta'])[:,0]\n",
    "print(ring_error.shape, transducer_theta.shape)\n",
    "\n",
    "idx = np.arange(0, 512, 1)\n",
    "ring_error = np.interp(idx, np.arange(0, 512, 2), ring_error) # Upsample ring error.\n",
    "plt.figure(figsize=(16,4))\n",
    "plt.plot(idx, ring_error)\n",
    "plt.tight_layout()"
   ]
  },
  {
   "cell_type": "code",
   "execution_count": null,
   "metadata": {},
   "outputs": [],
   "source": [
    "# @numba.jit(nopython=True) \n",
    "# def delay_and_sum(R_ring, T_sample, V_sound, sinogram, x_vec, y_vec, d_delay=0, ring_error=0):\n",
    "#     \"\"\"Generate a 2D Delay And Sum recontructed PACT image of ring transducer array. This function is accelerated by `numba.jit` on a GPU.\n",
    "\n",
    "#     Args:\n",
    "#         R_ring (`float`): The R_ring [m] of the ring transducer array.\n",
    "#         T_sample (`float`): Sample time interval [s] of the signals.\n",
    "#         V_sound (`float`): The sound speed [m/s] used for Delay And Sum recontruction.\n",
    "#         sinogram (`numpy.ndarray`): A 2D array and each column of it is the signal recievde by one transducer. The nummber of transducers should be the number of columns. The transducers should be evenly distributed on a circle in counterclockwise arrangement and the first column correspond to the transducer in the dirrection `2pi/N` in the first quartile. The first sample should be at time 0 when the photoacoustic effect happens.\n",
    "#         x_vec (`numpy.ndarray`): The vector [m] defining the x coordinates of the grid points on which the recontruction is done. The values in the vector should be unifromly-spaced in ascending order. The origin of the cartesian coordinate system is the center of the ring array.\n",
    "#         y_vec (`numpy.ndarray`): The vector [m] defining the y coordinates of the grid points on which the recontruction is done. The values in the vector should be unifromly-spaced in ascending order. The origin of the cartesian coordinate system is the center of the ring array.\n",
    "#         d_delay (`float`): The delay distance [m] of the signals used in DAS. The default value is 0.\n",
    "#         ring_error (`numpy.ndarray`): The radial displacement error of the transducers. The default value is 0.\n",
    "\n",
    "#     Returns:\n",
    "#         `numpy.ndarray`: A 2D array of size `(len(y_vec), len(x_vec))`. `Image[t, s]` is the recontructed photoacoustic amplitude at the grid point `(x_vec[s], y_vec[t])`.\n",
    "#     \"\"\"\n",
    "\n",
    "#     N_transducer = Sinogram.shape[0]\n",
    "#     Image = np.zeros((len(x_vec), len(y_vec)))\n",
    "#     delta_angle = 2*np.pi / N_transducer\n",
    "#     angle_transducer = delta_angle * (np.arange(N_transducer,) + 1)\n",
    "    \n",
    "#     R_ring = R_ring #- 40e-6 - 120e-6 * np.cos(2 * angle_transducer) + 5e-5 # Ring Array Correction \n",
    "\n",
    "#     x_transducer = R_ring * np.sin(angle_transducer - np.pi)\n",
    "#     y_transducer = R_ring * np.cos(angle_transducer - np.pi)\n",
    "    \n",
    "#     related_data = np.zeros((N_transducer,))\n",
    "    \n",
    "#     for s in range(len(x_vec)):\n",
    "#         for t in range(len(y_vec)):\n",
    "#             distance_to_transducer = np.sqrt((x_transducer - x_vec[s])**2 + (y_transducer - y_vec[t])**2) - d_delay + ring_error\n",
    "#             for k in range(N_transducer):\n",
    "#                 id = floor(distance_to_transducer[k] / (V_sound * T_sample))\n",
    "#                 if id > sinogram.shape[1] or id < 0:\n",
    "#                     related_data[k] = 0\n",
    "#                 else:\n",
    "#                     related_data[k] = sinogram[k, id]\n",
    "#             Image[t, s] = related_data.mean()\n",
    "#     return Image"
   ]
  },
  {
   "cell_type": "markdown",
   "metadata": {},
   "source": [
    "### Conventional DAS"
   ]
  },
  {
   "cell_type": "code",
   "execution_count": null,
   "metadata": {},
   "outputs": [],
   "source": [
    "baseline = delay_and_sum(R_ring=0.05,\n",
    "                         T_sample=1/(40e6),\n",
    "                         V_sound=1505.0,\n",
    "                         sinogram=sinogram_deconv[:,46:],\n",
    "                         x_vec=kgrid.x_vec[:],\n",
    "                         y_vec=kgrid.y_vec[:],\n",
    "                         d_delay=0)\n",
    "img_size = 560\n",
    "x_c, y_c = 425, 360 # x_c, y_c = center(baseline)\n",
    "baseline = baseline[x_c-img_size//2:+x_c+img_size//2, y_c-img_size//2:y_c+img_size//2]"
   ]
  },
  {
   "cell_type": "code",
   "execution_count": null,
   "metadata": {},
   "outputs": [],
   "source": [
    "fig = plt.figure(figsize=(16,6))\n",
    "ax1 = plt.subplot(1,2,1)\n",
    "plt.imshow(baseline, cmap='gray')\n",
    "cax = fig.add_axes([ax1.get_position().x1+0.008, ax1.get_position().y0, 0.015, ax1.get_position().height])\n",
    "cb = plt.colorbar(cax=cax)\n",
    "cb.ax.tick_params(labelsize=10)\n",
    "plt.title('Image', fontsize=12)\n",
    "\n",
    "ax2 = plt.subplot(1,2,2)\n",
    "plt.hist(baseline.ravel(), bins=150)\n",
    "plt.title('Histogram', fontsize=12)"
   ]
  },
  {
   "cell_type": "markdown",
   "metadata": {},
   "source": [
    "### APACT"
   ]
  },
  {
   "cell_type": "code",
   "execution_count": null,
   "metadata": {},
   "outputs": [],
   "source": [
    "delays_apact = np.arange(-8e-4, 8e-4, 2e-4)\n",
    "recons = []\n",
    "for d_delay in delays_apact:\n",
    "    recon = delay_and_sum(R_ring=0.05,\n",
    "                          T_sample=1/(40e6), \n",
    "                          V_sound=v0,\n",
    "                          sinogram=sinogram_deconv[:,46:],\n",
    "                          x_vec=kgrid.x_vec[:],\n",
    "                          y_vec=kgrid.y_vec[:],\n",
    "                          d_delay=d_delay)\n",
    "    recons.append(recon)\n",
    "recons = np.array(recons)\n",
    "recons = recons[:,x_c-img_size//2:x_c+img_size//2, y_c-img_size//2:y_c+img_size//2]"
   ]
  },
  {
   "cell_type": "code",
   "execution_count": null,
   "metadata": {},
   "outputs": [],
   "source": [
    "l = 3.2e-3        \n",
    "obss = []\n",
    "recons = np.array(recons)\n",
    "for i in range(25):\n",
    "    for j in range(25):\n",
    "        obs = torch.Tensor(recons[:,20*i:20*i+80, 20*j:20*j+80])\n",
    "        obss.append(obs)"
   ]
  },
  {
   "cell_type": "code",
   "execution_count": null,
   "metadata": {},
   "outputs": [],
   "source": [
    "def gaussian_kernel(sigma, size):\n",
    "    function = lambda x,y: np.exp(-((x-(size-1)/2)**2 + (y-(size-1)/2)**2) / (2*(sigma**2)))\n",
    "    kernel = np.fromfunction(function, (size, size), dtype=float)\n",
    "    return kernel / np.sum(kernel)\n",
    "\n",
    "fwhm = 1.5e-3 # [m]\n",
    "sigma = fwhm / 4e-5 / np.sqrt(2*np.log(2))\n",
    "gaussian_window = gaussian_kernel(sigma, 80)"
   ]
  },
  {
   "cell_type": "code",
   "execution_count": null,
   "metadata": {},
   "outputs": [],
   "source": [
    "model = APACT(delays=delays_apact, step=4e-5)\n",
    "# model = DataParallel(model)\n",
    "model.to(device)\n",
    "model.eval()\n",
    "\n",
    "rec_full_apact = np.zeros_like(recons[0])\n",
    "for i in tqdm(range(25)):\n",
    "    for j in tqdm(range(25)):\n",
    "        obs = obss[i*25+j] * gaussian_window\n",
    "        obs = obs.unsqueeze(0).to(device)\n",
    "        with torch.no_grad():\n",
    "            rec, _, _, _ = model(obs)\n",
    "        rec = rec.squeeze(0).squeeze(0).detach().cpu().numpy()\n",
    "        rec_full_apact[20*i:20*i+80, 20*j:20*j+80] += rec"
   ]
  },
  {
   "cell_type": "code",
   "execution_count": null,
   "metadata": {},
   "outputs": [],
   "source": [
    "fig = plt.figure(figsize=(16,6))\n",
    "ax1 = plt.subplot(1,2,1)\n",
    "plt.imshow(rec_full_apact, cmap='gray')\n",
    "cax = fig.add_axes([ax1.get_position().x1+0.008, ax1.get_position().y0, 0.015, ax1.get_position().height])\n",
    "cb = plt.colorbar(cax=cax)\n",
    "cb.ax.tick_params(labelsize=10)\n",
    "plt.title('Image', fontsize=12)\n",
    "\n",
    "ax2 = plt.subplot(1,2,2)\n",
    "plt.hist(rec_full_apact.ravel(), bins=150)\n",
    "plt.title('Histogram', fontsize=12)"
   ]
  },
  {
   "cell_type": "markdown",
   "metadata": {},
   "source": [
    "### Deconvolution with Single Body PSFs"
   ]
  },
  {
   "cell_type": "code",
   "execution_count": null,
   "metadata": {},
   "outputs": [],
   "source": [
    "from re import S\n",
    "\n",
    "\n",
    "def get_delays(R, v0, v1, n_delays, mode='uniform'):\n",
    "    if mode == 'uniform':\n",
    "        return np.linspace(0, (1-v0/v1) * R, n_delays)\n",
    "    elif mode == 'quadric':\n",
    "        return (1-v0/v1) * R * np.sqrt(np.linspace(0,1,n_delays))\n",
    "    else:\n",
    "        raise NotImplementedError()\n",
    "\n",
    "n_delays = 16\n",
    "delays = get_delays(R, v0, v1, n_delays, 'uniform')\n",
    "print(delays)\n",
    "\n",
    "recons = []\n",
    "for d_delay in delays:\n",
    "    recon = delay_and_sum(R_ring=0.05,\n",
    "                          T_sample=1/(40e6), \n",
    "                          V_sound=v0,\n",
    "                          Sinogram=sinogram[:,46:],\n",
    "                          x_vec=kgrid.x_vec[:],\n",
    "                          y_vec=kgrid.y_vec[:],\n",
    "                          d_delay=d_delay,\n",
    "                          ring_error=ring_error)\n",
    "    recons.append(recon)"
   ]
  },
  {
   "cell_type": "code",
   "execution_count": null,
   "metadata": {},
   "outputs": [],
   "source": [
    "recons = np.array(recons)\n",
    "recons = recons[:,x_c-img_size//2:x_c+img_size//2, y_c-img_size//2:y_c+img_size//2]"
   ]
  },
  {
   "cell_type": "code",
   "execution_count": null,
   "metadata": {},
   "outputs": [],
   "source": [
    "plt.figure(figsize=(13, 4))\n",
    "for idx, d_delay in enumerate(delays):\n",
    "    ax1 = plt.subplot(2,8,idx+1)\n",
    "    plt.imshow(recons[idx,:,:], cmap='gray')\n",
    "    plt.title('Delay={:.2f}mm'.format(d_delay*1e3), fontsize=12)\n",
    "    plt.axis('off')\n",
    "plt.tight_layout()"
   ]
  },
  {
   "cell_type": "code",
   "execution_count": null,
   "metadata": {},
   "outputs": [],
   "source": [
    "l = 3.2e-3        \n",
    "psfs, obss = [], []\n",
    "recons = np.array(recons)\n",
    "for i in range(25):\n",
    "    for j in range(25):\n",
    "        obs = torch.Tensor(recons[:,20*i:20*i+80, 20*j:20*j+80])\n",
    "        obss.append(obs)\n",
    "        \n",
    "        x, y = (j-12)*l / 4, (12-i)*l / 4\n",
    "        r, phi = np.sqrt(x**2 + y**2), np.arctan2(x, y)\n",
    "        w_real = wavefront_real(R, r, phi, v0, v1)\n",
    "        k2D, theta2D = get_fourier_coord(n_points=80, l=l, device='cpu')\n",
    "        psf = []\n",
    "        for id, delay in enumerate(delays):\n",
    "            psf.append(PSF(theta2D, k2D, w_real, delay))\n",
    "        psfs.append(torch.stack(psf, dim=0))"
   ]
  },
  {
   "cell_type": "code",
   "execution_count": null,
   "metadata": {},
   "outputs": [],
   "source": [
    "wiener = Wiener_Batched(lam=0.03)\n",
    "admm = ADMM_Batched(n_iters=16, lam=0.1, rho=0.1)"
   ]
  },
  {
   "cell_type": "markdown",
   "metadata": {},
   "source": [
    "### Small Patch"
   ]
  },
  {
   "cell_type": "code",
   "execution_count": null,
   "metadata": {},
   "outputs": [],
   "source": [
    "def get_r_C0(i, j, R, l, v0, v1):\n",
    "    x, y = (j-12)*l / 4, (12-i)*l / 4\n",
    "    r = np.sqrt(x**2 + y**2)\n",
    "    C0 = np.maximum(0, (1-v0/v1) * R * (1 - (r**2)/(4*R**2)))\n",
    "    return r, C0\n",
    "\n",
    "i, j = 14, 22\n",
    "r, C0 = get_r_C0(i, j, R, l, v0, v1)\n",
    "print('r={:.2f}mm   C0={:.2f}mm'.format(r*1e3, C0*1e3))"
   ]
  },
  {
   "cell_type": "code",
   "execution_count": null,
   "metadata": {},
   "outputs": [],
   "source": [
    "obs, psf = torch.Tensor(obss[i*25+j]), psfs[i*25+j]\n",
    "obs, psf = obs.unsqueeze(0).to(device), psf.unsqueeze(0).to(device)\n",
    "mean = obs.abs().mean()\n",
    "with torch.no_grad():\n",
    "    rec_wiener = wiener(obs/mean, psf) * mean\n",
    "    rec_admm = admm(obs/mean, psf) * mean\n",
    "obs = obs.squeeze(0).detach().cpu().numpy()\n",
    "psf = psf.squeeze(0).detach().cpu().numpy()\n",
    "rec_wiener = rec_wiener.squeeze(0).squeeze(0).detach().cpu().numpy()\n",
    "rec_wiener /= np.abs(rec_wiener).mean()\n",
    "rec_admm = rec_admm.squeeze(0).squeeze(0).detach().cpu().numpy()\n",
    "rec_admm /= np.abs(rec_admm).mean()"
   ]
  },
  {
   "cell_type": "code",
   "execution_count": null,
   "metadata": {},
   "outputs": [],
   "source": [
    "plt.figure(figsize=(15,10))\n",
    "for i in range(n_delays):\n",
    "    plt.subplot(5,8,i+1)\n",
    "    plt.imshow(obs[i], cmap='gray')\n",
    "    plt.title('Delay={:.2f}mm'.format(delays[i]*1e3), fontsize=13)\n",
    "    plt.xticks([])\n",
    "    plt.yticks([])\n",
    "    if i == 0:\n",
    "        plt.ylabel('Observation', fontsize=15)\n",
    "    \n",
    "    plt.subplot(5,8,i+17)\n",
    "    plt.imshow(psf[i], cmap='gray')\n",
    "    plt.xticks([])\n",
    "    plt.yticks([])\n",
    "    if i == 0:\n",
    "        plt.ylabel('PSF', fontsize=15)\n",
    "    \n",
    "plt.subplot(5,8,3+2*n_delays)\n",
    "plt.imshow(baseline[20*i:20*i+80, 20*j:20*j+80], cmap='gray')\n",
    "plt.xticks([])\n",
    "plt.yticks([])\n",
    "plt.title('Conventional DAS', fontsize=15)\n",
    "\n",
    "plt.subplot(5,8,4+2*n_delays)\n",
    "plt.imshow(rec_wiener, cmap='gray')\n",
    "plt.xticks([])\n",
    "plt.yticks([])\n",
    "plt.title('Wiener', fontsize=15)\n",
    "\n",
    "plt.subplot(5,8,5+2*n_delays)\n",
    "plt.imshow(rec_admm, cmap='gray')\n",
    "plt.xticks([])\n",
    "plt.yticks([])\n",
    "plt.title('ADMM', fontsize=15)\n",
    "    \n",
    "plt.tight_layout()"
   ]
  },
  {
   "cell_type": "code",
   "execution_count": null,
   "metadata": {},
   "outputs": [],
   "source": [
    "def gaussian_kernel(sigma, size):\n",
    "    function = lambda x,y: np.exp(-((x-(size-1)/2)**2 + (y-(size-1)/2)**2) / (2*(sigma**2)))\n",
    "    kernel = np.fromfunction(function, (size, size), dtype=float)\n",
    "    return kernel / np.sum(kernel)\n",
    "\n",
    "fwhm = 1.5e-3 # [m]\n",
    "sigma = fwhm / 4e-5 / np.sqrt(2*np.log(2))\n",
    "gaussian_window = gaussian_kernel(sigma, 80)"
   ]
  },
  {
   "cell_type": "code",
   "execution_count": null,
   "metadata": {},
   "outputs": [],
   "source": [
    "def deconv_full_img(model, recons, gaussian_window, delays, attention='euclidean'):\n",
    "    model.to(device)\n",
    "    model.eval()\n",
    "    \n",
    "    rec_full = np.zeros_like(recons[0])\n",
    "    for i in range(25):\n",
    "        for j in range(25):\n",
    "            obs, psf = obss[i*25+j], psfs[i*25+j]\n",
    "            mean = obs.abs().mean()\n",
    "            \n",
    "            _, C0 = get_r_C0(i, j, R, l, v0, v1)\n",
    "            weights = get_weights(C0, delays, attention)\n",
    "            obs, psf = obs * np.sqrt(weights), psf * np.sqrt(weights) # Apply attention weights to different channels.\n",
    "            obs, psf = obs.unsqueeze(0).to(device), psf.unsqueeze(0).to(device)\n",
    "            with torch.no_grad():\n",
    "                rec = model(obs/mean, psf) * mean\n",
    "            rec = rec.squeeze(0).squeeze(0).detach().cpu().numpy()\n",
    "            rec_full[20*i:20*i+80, 20*j:20*j+80] += rec * gaussian_window\n",
    "\n",
    "    return rec_full\n",
    "\n",
    "def get_weights(C0, delays, attention):\n",
    "    \"\"\"Calculates the weights for combining different delay channels in deconvolution\n",
    "\n",
    "    Args:\n",
    "        C0 (`float`): The zeroth order harmonic expansion coefficient of wavefront function.\n",
    "        delays (`numpy.ndarray`): The array of delays used in delay-and-sum recontruction.\n",
    "        attention (`string`): The type of attention weights (`['uniform', 'onehot', 'euclidean']`).\n",
    "\n",
    "    Raises:\n",
    "        NotImplementedError: The input `attention` type is not implemented.\n",
    "\n",
    "    Returns:\n",
    "        `numpy.ndarray`: The weights for different delay channels with shape `[n_delay, 1, 1]`.\n",
    "    \"\"\"\n",
    "    n_delays = delays.shape[0]\n",
    "    if attention == 'uniform':\n",
    "        return np.ones([n_delays,1,1]) \n",
    "    elif attention == 'euclidean':\n",
    "        distance = (delays.reshape([n_delays,1,1])-C0)**2\n",
    "        weights = np.exp(distance) / np.exp(distance).sum()\n",
    "        return weights / weights.sum() * n_delays\n",
    "    elif attention == 'onehot':\n",
    "        weights = np.zeros([n_delays,1,1])\n",
    "        weights[np.argmin(np.abs(delays-C0))] = 1\n",
    "        return weights\n",
    "    else: \n",
    "        raise NotImplementedError('Attention type not implemented.')\n",
    "\n",
    "rec_full_wiener = deconv_full_img(wiener, recons, gaussian_window, delays)\n",
    "rec_full_admm = deconv_full_img(admm, recons, gaussian_window, delays)"
   ]
  },
  {
   "cell_type": "markdown",
   "metadata": {},
   "source": [
    "Normalize image to the same intensity."
   ]
  },
  {
   "cell_type": "code",
   "execution_count": null,
   "metadata": {},
   "outputs": [],
   "source": [
    "# baseline, rec_full_apact, rec_full_wiener, rec_full_admm = [normalize(img) for img in [baseline, rec_full_apact, rec_full_wiener, rec_full_admm]]\n",
    "baseline, rec_full_apact, rec_full_wiener, rec_full_admm = [standardize(img) for img in [baseline, rec_full_apact, rec_full_wiener, rec_full_admm]]"
   ]
  },
  {
   "cell_type": "code",
   "execution_count": null,
   "metadata": {},
   "outputs": [],
   "source": [
    "print(baseline.min(), baseline.max(), baseline.std())\n",
    "print(rec_full_apact.min(), rec_full_apact.max(), rec_full_apact.std())\n",
    "print(rec_full_wiener.min(), rec_full_wiener.max(), rec_full_wiener.std())\n",
    "print(rec_full_admm.min(), rec_full_admm.max(), rec_full_admm.std())"
   ]
  },
  {
   "cell_type": "code",
   "execution_count": null,
   "metadata": {},
   "outputs": [],
   "source": [
    "patches = [(70, 200, 100, 200, 'blue'), (260, 325, 100, 200, 'red')]\n",
    "\n",
    "fig = plt.figure(figsize=(15, 6.5))\n",
    "gs = gridspec.GridSpec(5, 12)\n",
    "norm = matplotlib.colors.Normalize(vmax=10, vmin=-9)\n",
    "for idx, (rec_full, method) in enumerate(zip([baseline, rec_full_apact, rec_full_wiener], ['Conventional DAS', 'APACT', 'Wiener'])):\n",
    "    ax = plt.subplot(gs[0:4,idx*4:(idx+1)*4])\n",
    "    plt.imshow(rec_full, cmap='gray', norm=norm)\n",
    "    plt.title(method, fontsize=18)\n",
    "    plt.axis('off')\n",
    "    for k, (x, y, h, w, color) in enumerate(patches):\n",
    "        rect = plt.Rectangle((y, x), w, h, fill=False, edgecolor=color, linewidth=1.6, linestyle='--')\n",
    "        ax.add_patch(rect)\n",
    "        ax2 = plt.subplot(gs[4:5,idx*4+k*2:idx*4+(k+1)*2])\n",
    "        plt.imshow(rec_full[x:x+h, y:y+w], cmap='gray', norm=norm)\n",
    "        plt.xticks([])\n",
    "        plt.yticks([])\n",
    "        for loc in ['bottom', 'top', 'left', 'right']:\n",
    "            ax2.spines[loc].set_color(color)\n",
    "            ax2.spines[loc].set_linewidth(1.8)\n",
    "            ax2.spines[loc].set_linestyle('--')\n",
    "cax = fig.add_axes([ax.get_position().x1+0.01, ax.get_position().y0, 0.012, ax.get_position().height])\n",
    "cb = plt.colorbar(cax=cax)"
   ]
  },
  {
   "cell_type": "markdown",
   "metadata": {},
   "source": [
    "Compare different delay ranges."
   ]
  },
  {
   "cell_type": "code",
   "execution_count": null,
   "metadata": {},
   "outputs": [],
   "source": [
    "fig = plt.figure(figsize=(10, 5))\n",
    "norm = matplotlib.colors.Normalize(vmax=1, vmin=0)\n",
    "for i in range(2):\n",
    "    ax = plt.subplot(1,2,i+1)\n",
    "    if i == 0:\n",
    "        delays = get_delays(R, v0, v1, n_delays, 'uniform')\n",
    "        plt.title('Our range', fontsize=14)\n",
    "    else:\n",
    "        delays = np.arange(-8e-4, 8e-4, 1e-4)\n",
    "        plt.title('APACT range', fontsize=14)\n",
    "    rec_full = deconv_full_img(wiener, recons, gaussian_window, delays)\n",
    "    rec_full = normalize(rec_full)\n",
    "    print(rec_full.mean())\n",
    "    plt.imshow(rec_full, cmap='gray', norm=norm)\n",
    "    plt.xticks([])\n",
    "    plt.yticks([])\n",
    "plt.tight_layout()"
   ]
  },
  {
   "cell_type": "markdown",
   "metadata": {},
   "source": [
    "Compare different attention weights."
   ]
  },
  {
   "cell_type": "code",
   "execution_count": null,
   "metadata": {},
   "outputs": [],
   "source": [
    "# fig = plt.figure(figsize=(16, 10))\n",
    "# for i, attention in enumerate(['uniform', 'euclidean', 'onehot']):\n",
    "#     for j, mode in enumerate(['uniform', 'quadric']):\n",
    "#         ax = plt.subplot(2,3,j*3+i+1)\n",
    "#         delays = get_delays(R, v0, v1, n_delays, mode)\n",
    "#         rec_full = deconv_full_img(wiener, recons, gaussian_window, delays, attention)\n",
    "#         rec_full = standardize(rec_full)\n",
    "#         plt.imshow(rec_full, cmap='gray', norm=norm)\n",
    "#         if j == 0:\n",
    "#             plt.title(attention, fontsize=20)\n",
    "#         if i == 0:\n",
    "#             plt.ylabel(mode, fontsize=20)\n",
    "#         plt.xticks([])\n",
    "#         plt.yticks([])\n",
    "# plt.tight_layout()"
   ]
  }
 ],
 "metadata": {
  "kernelspec": {
   "display_name": "pact",
   "language": "python",
   "name": "python3"
  },
  "language_info": {
   "codemirror_mode": {
    "name": "ipython",
    "version": 3
   },
   "file_extension": ".py",
   "mimetype": "text/x-python",
   "name": "python",
   "nbconvert_exporter": "python",
   "pygments_lexer": "ipython3",
   "version": "3.9.18"
  },
  "orig_nbformat": 4
 },
 "nbformat": 4,
 "nbformat_minor": 2
}
