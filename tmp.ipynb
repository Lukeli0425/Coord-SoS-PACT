{
 "cells": [
  {
   "cell_type": "code",
   "execution_count": 4,
   "metadata": {},
   "outputs": [],
   "source": [
    "import os\n",
    "import numpy as np\n",
    "from pathlib import Path"
   ]
  },
  {
   "cell_type": "code",
   "execution_count": 5,
   "metadata": {},
   "outputs": [],
   "source": [
    "data_path = '/mnt/WD6TB/tianaoli/dataset/Mice/'\n",
    "IP_path = data_path + 'IP/'\n",
    "gold_path = data_path + 'gold/'\n",
    "Path(gold_path).mkdir(exist_ok=True)"
   ]
  },
  {
   "cell_type": "code",
   "execution_count": 6,
   "metadata": {},
   "outputs": [],
   "source": [
    "IP_files = os.listdir(IP_path)\n",
    "\n",
    "for idx in range(170):\n",
    "    file = f'IP_{idx}.npy'\n",
    "    IP_img = np.load(IP_path + file)\n",
    "    # print(IP_img.shape)\n",
    "    for i in range(13):\n",
    "        for j in range(13):\n",
    "            gold_file = os.path.join(gold_path, f\"obs_{idx*169+13*i+j}.npy\")\n",
    "            patch = np.expand_dims(IP_img[40*i:40*i+80, 40*j:40*j+80], axis=0)\n",
    "            np.save(gold_file, patch)"
   ]
  },
  {
   "cell_type": "code",
   "execution_count": null,
   "metadata": {},
   "outputs": [],
   "source": []
  }
 ],
 "metadata": {
  "kernelspec": {
   "display_name": "pact",
   "language": "python",
   "name": "python3"
  },
  "language_info": {
   "codemirror_mode": {
    "name": "ipython",
    "version": 3
   },
   "file_extension": ".py",
   "mimetype": "text/x-python",
   "name": "python",
   "nbconvert_exporter": "python",
   "pygments_lexer": "ipython3",
   "version": "3.8.18"
  }
 },
 "nbformat": 4,
 "nbformat_minor": 2
}
