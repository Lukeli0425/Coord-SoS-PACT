{
 "cells": [
  {
   "cell_type": "code",
   "execution_count": 22,
   "metadata": {},
   "outputs": [],
   "source": [
    "import os\n",
    "import sys\n",
    "\n",
    "sys.path.append('../')\n",
    "\n",
    "import matplotlib.pyplot as plt\n",
    "import numpy as np\n",
    "from matplotlib.colors import Normalize\n",
    "from matplotlib.gridspec import GridSpec\n",
    "from skimage.metrics import peak_signal_noise_ratio as psnr\n",
    "from skimage.metrics import structural_similarity as ssim\n",
    "\n",
    "from kwave.ktransducer import kWaveGrid\n",
    "from models.pact import SOS2Wavefront\n",
    "from utils.dataio import *\n",
    "from utils.reconstruction import get_coordinates\n",
    "from utils.simulations import get_water_sos\n",
    "from utils.utils_torch import crop_half, get_fourier_coord\n",
    "from utils.visualization import *\n",
    "\n",
    "DATA_DIR = '../data/'\n",
    "RESULTS_DIR = '../results_new/numerical_full/'"
   ]
  },
  {
   "cell_type": "markdown",
   "metadata": {},
   "source": [
    "### Load Images"
   ]
  },
  {
   "cell_type": "code",
   "execution_count": 23,
   "metadata": {},
   "outputs": [],
   "source": [
    "v_das = 1510"
   ]
  },
  {
   "cell_type": "code",
   "execution_count": 24,
   "metadata": {},
   "outputs": [],
   "source": [
    "\n",
    "IP_gt = load_mat(os.path.join(DATA_DIR, 'IP.mat'))\n",
    "IP_das = load_mat(os.path.join(RESULTS_DIR, 'DAS', 'v_das={:.1f}m·s⁻¹'.format(v_das), 'IP_rec.mat'))\n",
    "IP_dual_das = load_mat(os.path.join(RESULTS_DIR, 'Dual-SOS_DAS', 'v_body=1561.0m·s⁻¹', 'IP_rec.mat'))\n",
    "IP_deconv = load_mat(os.path.join(RESULTS_DIR, 'Deconv', '32delays_bs=64', 'IP_rec.mat'))\n",
    "IP_apact = load_mat(os.path.join(RESULTS_DIR, 'APACT', '32delays', 'IP_rec.mat'))\n",
    "IP_gop = load_mat(os.path.join(RESULTS_DIR, 'GOP', '32delays_TV=1.0e-04_20epochs_bs=64_lr=1.0e-01', 'IP_rec.mat'))\n",
    "IP_nf_apact = load_mat(os.path.join(RESULTS_DIR, 'NF-APACT', '32delays_1lyrs_64fts_TV=1.0e-04_10epochs_bs=64_lr=1.0e-03', 'IP_rec.mat'))\n",
    "\n",
    "SOS_gt = load_mat(os.path.join(DATA_DIR, 'SOS_full.mat'))\n",
    "SOS_uniform = load_mat(os.path.join(DATA_DIR, 'SOS_uniform.mat'))\n",
    "SOS_dual = load_mat(os.path.join(DATA_DIR, 'SOS_SB.mat'))\n",
    "SOS_apact = load_mat(os.path.join(RESULTS_DIR, 'APACT', '32delays', 'SOS_rec.mat'))\n",
    "SOS_gop = load_mat(os.path.join(RESULTS_DIR, 'GOP', '32delays_TV=1.0e-04_20epochs_bs=64_lr=1.0e-01', 'SOS_rec.mat'))\n",
    "SOS_nf_apact = load_mat(os.path.join(RESULTS_DIR, 'NF-APACT', '32delays_1lyrs_64fts_TV=5.0e-05_10epochs_bs=64_lr=1.0e-03', 'SOS_rec.mat'))\n",
    "\n",
    "t_das = load_log(os.path.join(RESULTS_DIR, 'DAS', 'v_das={:.1f}m·s⁻¹'.format(v_das), 'log.json'))['time']\n",
    "t_dual_das = load_log(os.path.join(RESULTS_DIR, 'Dual-SOS_DAS', 'v_body=1561.0m·s⁻¹', 'log.json'))['time']\n",
    "t_deconv = load_log(os.path.join(RESULTS_DIR, 'Deconv', '32delays_bs=64', 'log.json'))['time']\n",
    "t_apact = load_log(os.path.join(RESULTS_DIR, 'APACT', '32delays', 'log.json'))['time']\n",
    "t_gop = load_log(os.path.join(RESULTS_DIR, 'GOP', '32delays_TV=1.0e-04_20epochs_bs=64_lr=1.0e-01', 'log.json'))['time']\n",
    "t_nf_apact = load_log(os.path.join(RESULTS_DIR, 'NF-APACT', '32delays_1lyrs_64fts_TV=5.0e-05_10epochs_bs=64_lr=1.0e-03', 'log.json'))['time']"
   ]
  },
  {
   "cell_type": "code",
   "execution_count": 25,
   "metadata": {},
   "outputs": [],
   "source": [
    "[IP_gt, IP_das, IP_dual_das, IP_deconv, IP_apact, IP_gop, IP_nf_apact] = \\\n",
    "    [standardize(img) for img in [IP_gt, IP_das, IP_dual_das, IP_deconv, IP_apact, IP_gop, IP_nf_apact]]\n",
    "data_range_img = 13 #  IP_das.max() - IP_das.min()\n",
    "data_range_SOS = SOS_gt.max() - SOS_gt.min()"
   ]
  },
  {
   "cell_type": "code",
   "execution_count": 26,
   "metadata": {},
   "outputs": [],
   "source": [
    "# IP_gt.max(), IP_gt.min(), IP_das.max(), IP_das.min(), IP_dual_das.max(), IP_dual_das.min(), IP_apact.max(), IP_apact.min(), IP_nf_apact.max(), IP_nf_apact.min()"
   ]
  },
  {
   "cell_type": "markdown",
   "metadata": {},
   "source": [
    "### Calculate Wavefronts"
   ]
  },
  {
   "cell_type": "code",
   "execution_count": 27,
   "metadata": {},
   "outputs": [],
   "source": [
    "config = load_config(os.path.join('../', 'config.yaml'))\n",
    "bps, tps = config['basic_params'], config['numerical 0']\n",
    "R_ring = bps['R_ring'] # Radius to ring [m].\n",
    "R_body = tps['R_body'] # Radius to center [m].\n",
    "l_patch = bps['l_patch'] # Patch size [m].\n",
    "kgrid = kWaveGrid([tps['Nx'], tps['Ny']], [bps['dx'], bps['dy']])\n",
    "v0 = get_water_sos(tps['T'])"
   ]
  },
  {
   "cell_type": "code",
   "execution_count": 28,
   "metadata": {},
   "outputs": [
    {
     "data": {
      "text/plain": [
       "SOS2Wavefront()"
      ]
     },
     "execution_count": 28,
     "metadata": {},
     "output_type": "execute_result"
    }
   ],
   "source": [
    "sos2wf = SOS2Wavefront(R_body, v0, kgrid.x_vec, kgrid.y_vec, n_thetas=360)\n",
    "sos2wf.cuda()\n",
    "sos2wf.eval()"
   ]
  },
  {
   "cell_type": "markdown",
   "metadata": {},
   "source": [
    "Pick a patch."
   ]
  },
  {
   "cell_type": "code",
   "execution_count": 29,
   "metadata": {},
   "outputs": [
    {
     "name": "stdout",
     "output_type": "stream",
     "text": [
      "5.366563145999496 2.677945044588987\n"
     ]
    }
   ],
   "source": [
    "i, j = 18, 15\n",
    "idx, idy = 20*i+40, 20*j+40\n",
    "x, y, r, phi = get_coordinates(i, j, l_patch)\n",
    "x, y = (j-12)*l_patch / 4, (12-i)*l_patch / 4\n",
    "k2D, theta2D = get_fourier_coord(N=80, l=l_patch, device='cpu')\n",
    "print(r*1e3, phi)"
   ]
  },
  {
   "cell_type": "markdown",
   "metadata": {},
   "source": [
    "Calculate ground truth and NF-APACT wavefronts."
   ]
  },
  {
   "cell_type": "code",
   "execution_count": 30,
   "metadata": {},
   "outputs": [],
   "source": [
    "thetas, wf_gt = sos2wf(torch.tensor([x]).cuda(), torch.tensor([y]).cuda(), torch.tensor(SOS_gt).cuda())\n",
    "wf_gt = wf_gt.squeeze(0).detach().cpu().numpy()\n",
    "thetas, wf_dual = sos2wf(torch.tensor([x]).cuda(), torch.tensor([y]).cuda(), torch.tensor(SOS_dual).cuda())\n",
    "wf_dual = wf_dual.squeeze(0).detach().cpu().numpy()\n",
    "thetas, wf_gop = sos2wf(torch.tensor([x]).cuda(), torch.tensor([y]).cuda(), torch.tensor(SOS_gop).cuda())\n",
    "wf_gop = wf_gop.squeeze(0).detach().cpu().numpy()\n",
    "thetas, wf_nf_apact = sos2wf(torch.tensor([x]).cuda(), torch.tensor([y]).cuda(), torch.tensor(SOS_nf_apact).cuda())\n",
    "wf_nf_apact = wf_nf_apact.squeeze(0).detach().cpu().numpy()\n",
    "thetas = thetas.squeeze(0).squeeze(0).detach().cpu().numpy()\n",
    "wf_das = np.ones_like(wf_gt) * R_ring * (1-v0/v_das)"
   ]
  },
  {
   "cell_type": "markdown",
   "metadata": {},
   "source": [
    "Calculate APACT wavefront."
   ]
  },
  {
   "cell_type": "code",
   "execution_count": 31,
   "metadata": {},
   "outputs": [],
   "source": [
    "wf_params = torch.load(os.path.join(RESULTS_DIR, 'APACT', '32delays', 'wf_params.pth')).detach().cpu().numpy()\n",
    "dc ,x2, y2 = wf_params[i*25+j]\n",
    "wf_apact = dc + x2*np.cos(2*thetas) + y2*np.sin(2*thetas)"
   ]
  },
  {
   "cell_type": "markdown",
   "metadata": {},
   "source": [
    "### Create Figure"
   ]
  },
  {
   "cell_type": "code",
   "execution_count": null,
   "metadata": {},
   "outputs": [
    {
     "name": "stderr",
     "output_type": "stream",
     "text": [
      "/home/tianao/anaconda3/envs/pact/lib/python3.11/site-packages/skimage/metrics/simple_metrics.py:167: RuntimeWarning: divide by zero encountered in scalar divide\n",
      "  return 10 * np.log10((data_range**2) / err)\n"
     ]
    }
   ],
   "source": [
    "patches = [(36, 230, 100, 100, 'limegreen'), (377, 60, 100, 100, 'deepskyblue'), (212, 146, 100, 200, 'red')]\n",
    "\n",
    "fig = plt.figure(figsize=(31, 18))\n",
    "gs = GridSpec(30, 25)\n",
    "norm = Normalize(vmax=5, vmin=-1)\n",
    "norm_SOS = Normalize(vmax=1610, vmin=1490)\n",
    "\n",
    "# Panel a: Numerical phantom.\n",
    "ax = plt.subplot(gs[0:8,1:5])\n",
    "plt.title('a', loc='left', x=-0.12, y=1.03, fontsize=28, fontweight='semibold', color='black')\n",
    "plt.title('Initial pressure', fontsize=23, fontweight='semibold')\n",
    "plt.axis('off')\n",
    "plt.imshow(IP_gt, cmap='gray', norm=norm)\n",
    "cax = fig.add_axes([ax.get_position().x1+5e-3, ax.get_position().y0, 9e-3, ax.get_position().height])\n",
    "cb = plt.colorbar(cax=cax, norm=norm)\n",
    "cb.set_ticks([5, -1])\n",
    "cb.set_ticklabels(['Max', 'Min'], fontsize=16, fontweight='bold')\n",
    "for k, (x, y, h, w, color) in enumerate(patches):\n",
    "        rect = plt.Rectangle((y, x), w, h, fill=False, edgecolor=color, linewidth=1.8, linestyle='--')\n",
    "        ax.add_patch(rect)\n",
    "        ax2 = plt.subplot(gs[8:10,k+1:k+2+(k==2)])\n",
    "        plt.imshow(IP_gt[x:x+h, y:y+w], cmap='gray', norm=norm)\n",
    "        plt.xticks([])\n",
    "        plt.yticks([])\n",
    "        for loc in ['bottom', 'top', 'left', 'right']:\n",
    "            ax2.spines[loc].set_color(color)\n",
    "            ax2.spines[loc].set_linewidth(2)\n",
    "            ax2.spines[loc].set_linestyle('--')\n",
    "\n",
    "ax = plt.subplot(gs[0:8,6:10])\n",
    "plt.axis('off')\n",
    "plt.title('Speed of sound', fontsize=22.5, fontweight='semibold')\n",
    "plt.imshow(SOS_gt, cmap='magma', norm=norm_SOS)\n",
    "plt.plot(idy, idx, marker='x', mew=3.5, color='white', markersize=10)\n",
    "cax = fig.add_axes([ax.get_position().x1+5e-3, ax.get_position().y0, 9e-3, ax.get_position().height])\n",
    "cb = plt.colorbar(cax=cax, norm=norm_SOS)\n",
    "cb.set_ticks([1500, 1520, 1540, 1560, 1580, 1600])\n",
    "cb.set_ticklabels(['1500', '1520', '1540', '1560', '1580', '1600'], fontsize=13, fontweight='bold')\n",
    "cb.set_label('$\\mathbf{m \\cdot s^{-1}}$', fontsize=16, fontweight='bold')\n",
    "\n",
    "# Panel b: comaping Wavefronts.\n",
    "plt.subplot(gs[0:9,13:19])\n",
    "plt.plot(thetas, wf_gt*1e3, label='Truth', color='red', linewidth=3.)\n",
    "plt.plot(thetas, wf_das*1e3, label='Conv. DAS', color='gold', linewidth=3.)\n",
    "plt.plot(thetas, wf_dual*1e3, label='Dual-SOS DAS', color='limegreen', linewidth=3.)\n",
    "plt.plot(thetas, wf_apact*1e3, label='APACT', color='dodgerblue', linewidth=3.)\n",
    "# plt.plot(thetas, wf_gop*1e3, label='GOP (Ours)', color='black', linewidth=3.)\n",
    "plt.plot(thetas, wf_nf_apact*1e3, label='NF-APACT (Ours)', color='darkviolet', linewidth=3.)\n",
    "plt.legend(prop=dict(weight='bold', size=13.6))\n",
    "plt.xlim([0, 2*np.pi])\n",
    "plt.ylim([0.15, 0.74])\n",
    "plt.xticks([0, np.pi/2, np.pi, 3*np.pi/2, 2*np.pi], \n",
    "           ['$\\mathbf{0}$', '$\\mathbf{\\pi/2}$', '$\\mathbf{\\pi}$', '$\\mathbf{3\\pi/2}$', '$\\mathbf{2\\pi}$'], fontsize=18)\n",
    "plt.yticks(fontsize=14, fontweight='bold')\n",
    "plt.ylabel('Wavefront error (mm)', fontsize=19.5, fontweight='bold')\n",
    "plt.text(s='b', x=-1, y=0.76, fontsize=28, fontweight='semibold', color='black')\n",
    "\n",
    "# Panel c: Reconstruction results.\n",
    "for idx, (img, method, time, SOS, SOS_title) in enumerate(zip([IP_das, IP_dual_das,  IP_apact, IP_gop, IP_nf_apact, IP_deconv],\n",
    "                                                              ['Conventional DAS', 'Dual-SOS DAS', 'APACT', 'GOP', 'NF-APACT (Ours)', 'Ours + SOS oracle'],\n",
    "                                                              ['t={:.2f}s'.format(t_das), 't={:.2f}s'.format(t_dual_das), 't={:.1f}min'.format(t_apact/60), 't={:.1f}min'.format(t_gop/60), 't={:.1f}min'.format(t_nf_apact/60), 't={:.2f}s'.format(t_deconv)],\n",
    "                                                              [SOS_uniform, SOS_dual, SOS_apact, SOS_gop, SOS_nf_apact, SOS_gt],\n",
    "                                                              ['Given SOS', 'Given SOS', 'Reconstructed SOS', 'Reconstructed SOS', 'Reconstructed SOS', 'Given SOS'])):\n",
    "    ax = plt.subplot(gs[11:19,idx*4:(idx+1)*4])\n",
    "    plt.title(method, fontsize=23, fontweight='semibold')\n",
    "    plt.axis('off')\n",
    "    plt.imshow(img, cmap='gray', norm=norm)\n",
    "    plt.text(s=time, x=8, y=34, fontweight='semibold', fontsize=16, color='white')\n",
    "    plt.text(s='PSNR={:.2f}'.format(psnr(IP_gt, img, data_range=data_range_img)), x=8, y=550, fontsize=15, fontweight='semibold', color='white')\n",
    "    plt.text(s='SSIM={:.3f}'.format(ssim(IP_gt, img, data_range=data_range_img)), x=338, y=550, fontsize=15, fontweight='semibold', color='white')\n",
    "    if idx == 0:\n",
    "        plt.text(s='c', x=-65, y=-30, fontsize=30, fontweight='semibold', color='black')\n",
    "    elif idx == 5:\n",
    "        cax = fig.add_axes([ax.get_position().x1+5e-3, ax.get_position().y0, 9e-3, ax.get_position().height])\n",
    "        cb = plt.colorbar(cax=cax, norm=norm)\n",
    "        cb.set_ticks([5, -1])\n",
    "        cb.set_ticklabels(['Max', 'Min'], fontsize=16, fontweight='bold')\n",
    "    \n",
    "    for k, (x, y, h, w, color) in enumerate(patches):\n",
    "        rect = plt.Rectangle((y, x), w, h, fill=False, edgecolor=color, linewidth=1.8, linestyle='--')\n",
    "        ax.add_patch(rect)\n",
    "        ax2 = plt.subplot(gs[19:21,idx*4+k:idx*4+k+1+(k==2)])\n",
    "        plt.imshow(img[x:x+h, y:y+w], cmap='gray', norm=norm)\n",
    "        plt.xticks([])\n",
    "        plt.yticks([])\n",
    "        for loc in ['bottom', 'top', 'left', 'right']:\n",
    "            ax2.spines[loc].set_color(color)\n",
    "            ax2.spines[loc].set_linewidth(2)\n",
    "            ax2.spines[loc].set_linestyle('--')\n",
    "\n",
    "    ax = plt.subplot(gs[22:30,idx*4:(idx+1)*4])\n",
    "    plt.axis('off')\n",
    "    plt.title(SOS_title, fontsize=23, fontweight='semibold')\n",
    "    plt.imshow(SOS, cmap='magma', norm=norm_SOS)\n",
    "    if idx >= 0:\n",
    "        plt.text(s='PSNR={:.2f}'.format(psnr(SOS, SOS_gt, data_range=data_range_SOS)), x=8, y=550, fontsize=15, fontweight='semibold', color='white')\n",
    "    if idx == 5:\n",
    "        cax = fig.add_axes([ax.get_position().x1+5e-3, ax.get_position().y0, 9e-3, ax.get_position().height])\n",
    "        cb = plt.colorbar(cax=cax, norm=norm_SOS)\n",
    "        cb.set_ticks([1500, 1520, 1540, 1560, 1580, 1600])\n",
    "        cb.set_ticklabels(['1500', '1520', '1540', '1560', '1580', '1600'], fontsize=13, fontweight='bold')\n",
    "        cb.set_label('$\\mathbf{m \\cdot s^{-1}}$', fontsize=16, fontweight='bold')\n",
    "    \n",
    "# plt.savefig('figure_numerical.png', bbox_inches='tight', dpi=128)"
   ]
  },
  {
   "cell_type": "code",
   "execution_count": null,
   "metadata": {},
   "outputs": [],
   "source": []
  }
 ],
 "metadata": {
  "kernelspec": {
   "display_name": "pact",
   "language": "python",
   "name": "python3"
  },
  "language_info": {
   "codemirror_mode": {
    "name": "ipython",
    "version": 3
   },
   "file_extension": ".py",
   "mimetype": "text/x-python",
   "name": "python",
   "nbconvert_exporter": "python",
   "pygments_lexer": "ipython3",
   "version": "3.11.9"
  }
 },
 "nbformat": 4,
 "nbformat_minor": 2
}
