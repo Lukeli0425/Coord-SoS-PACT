{
 "cells": [
  {
   "cell_type": "code",
   "execution_count": 4,
   "metadata": {},
   "outputs": [],
   "source": [
    "import os\n",
    "import sys\n",
    "\n",
    "sys.path.append('../')\n",
    "\n",
    "import numpy as np\n",
    "import torch\n",
    "from matplotlib import pyplot as plt\n",
    "from scipy.special import ellipe\n",
    "from torch.fft import fftshift, fft2, ifft2, ifftn, ifftshift\n",
    "\n",
    "from kwave.ktransducer import kWaveGrid\n",
    "from utils.reconstruction import wavefront_real, wavefront_fourier"
   ]
  },
  {
   "cell_type": "code",
   "execution_count": 5,
   "metadata": {},
   "outputs": [],
   "source": [
    "R = 9.8e-3 # Radius to center [m].\n",
    "v0, v1 = 1511.4, 1553.0 # Background SoS & SoS in tissue [m/s]."
   ]
  },
  {
   "cell_type": "code",
   "execution_count": 6,
   "metadata": {},
   "outputs": [],
   "source": [
    "Nx, Ny = 560, 560\n",
    "dx, dy = 4.e-5, 4.e-5\n",
    "kgrid = kWaveGrid([Nx, Ny], [dx, dy])\n",
    "x_vec, y_vec = np.meshgrid(kgrid.x_vec.copy(), kgrid.y_vec.copy())"
   ]
  },
  {
   "cell_type": "code",
   "execution_count": 7,
   "metadata": {},
   "outputs": [
    {
     "data": {
      "text/plain": [
       "<matplotlib.image.AxesImage at 0x7fb7fb551e80>"
      ]
     },
     "execution_count": 7,
     "metadata": {},
     "output_type": "execute_result"
    },
    {
     "data": {
      "image/png": "[encoded data removed]",
      "text/plain": [
       "<Figure size 640x480 with 1 Axes>"
      ]
     },
     "metadata": {},
     "output_type": "display_data"
    }
   ],
   "source": [
    "SoS_uniform = np.ones((Ny, Nx)) * v0\n",
    "SoS_SB = np.ones((Ny, Nx)) * v0\n",
    "SoS_SB[x_vec**2 + y_vec**2 < R**2] = v1\n",
    "\n",
    "plt.imshow(SoS_SB)"
   ]
  },
  {
   "cell_type": "code",
   "execution_count": 8,
   "metadata": {},
   "outputs": [
    {
     "ename": "NameError",
     "evalue": "name 'get_fourier_params' is not defined",
     "output_type": "error",
     "traceback": [
      "\u001b[0;31m---------------------------------------------------------------------------\u001b[0m",
      "\u001b[0;31mNameError\u001b[0m                                 Traceback (most recent call last)",
      "Cell \u001b[0;32mIn[8], line 3\u001b[0m\n\u001b[1;32m      1\u001b[0m r \u001b[38;5;241m=\u001b[39m \u001b[38;5;241m7e-3\u001b[39m \u001b[38;5;66;03m# Distance to center [m].\u001b[39;00m\n\u001b[1;32m      2\u001b[0m phi \u001b[38;5;241m=\u001b[39m \u001b[38;5;241m3\u001b[39m\u001b[38;5;241m*\u001b[39mnp\u001b[38;5;241m.\u001b[39mpi\u001b[38;5;241m/\u001b[39m\u001b[38;5;241m4\u001b[39m \u001b[38;5;66;03m# Angle to center [rad].\u001b[39;00m\n\u001b[0;32m----> 3\u001b[0m C0, C1, phi1, C2, phi2 \u001b[38;5;241m=\u001b[39m \u001b[43mget_fourier_params\u001b[49m(r, phi, R, v0, v1)\n\u001b[1;32m      4\u001b[0m \u001b[38;5;28mprint\u001b[39m(C0, C1, C2)\n\u001b[1;32m      5\u001b[0m w_fourier \u001b[38;5;241m=\u001b[39m wavefront_fourier(C0, C1, phi, C2, phi)\n",
      "\u001b[0;31mNameError\u001b[0m: name 'get_fourier_params' is not defined"
     ]
    }
   ],
   "source": [
    "r = 7e-3 # Distance to center [m].\n",
    "phi = 3*np.pi/4 # Angle to center [rad].\n",
    "C0, C1, phi1, C2, phi2 = get_fourier_params(r, phi, R, v0, v1)\n",
    "print(C0, C1, C2)\n",
    "w_fourier = wavefront_fourier(C0, C1, phi, C2, phi)\n",
    "w_real = wavefront_real(R, r, phi, v0, v1)"
   ]
  },
  {
   "cell_type": "code",
   "execution_count": null,
   "metadata": {},
   "outputs": [],
   "source": [
    "plt.figure(figsize=(15,9))\n",
    "for i, SoS in enumerate([SoS_uniform, SoS_SB, SoS_SB, SoS_SB, SoS_SB]):\n",
    "    w_real = wavefront_real(R, r, phi, v0, v1)\n",
    "    \n",
    "    plt.subplot(4, 5, i+1)\n",
    "    plt.imshow(SoS)\n",
    "    plt.xticks([])\n",
    "    plt.yticks([])\n",
    "    if i == 0:\n",
    "        plt.ylabel('Speed of Sound', fontsize=14)\n",
    "        plt.title('Uniform SoS')\n",
    "    elif i == 1:\n",
    "        plt.title('Single-body SoS')\n",
    "    elif i == 2:\n",
    "        plt.title('Single-body + Vertebral column')\n",
    "    elif i == 3:\n",
    "        plt.title('Single-body + Liver')\n",
    "    elif i == 4:\n",
    "        plt.title('Numerical Phantom')\n",
    "    \n",
    "    plt.subplot(4, 5, i+6)\n",
    "    plt.plot(theta1D, w_real(theta1D), color='tab:red', label='Real')\n",
    "    if i == 0:\n",
    "        plt.ylabel('Wavefront', fontsize=14)\n",
    "\n",
    "    plt.subplot(4, 5, i+11)\n",
    "    plt.imshow(PSF(theta2D, k2D, w_real, 0))\n",
    "    plt.xticks([])\n",
    "    plt.yticks([])\n",
    "    if i == 0:\n",
    "        plt.ylabel('PSF\\n(delay=0mm)', fontsize=14)\n",
    "    \n",
    "    plt.subplot(4, 5, i+16)\n",
    "    plt.imshow(PSF(theta2D, k2D, w_real, 3e-4))\n",
    "    plt.xticks([])\n",
    "    plt.yticks([])\n",
    "    if i == 0:\n",
    "        plt.ylabel('PSF\\n(delay=0.3mm)', fontsize=14)"
   ]
  }
 ],
 "metadata": {
  "kernelspec": {
   "display_name": "pact",
   "language": "python",
   "name": "python3"
  },
  "language_info": {
   "codemirror_mode": {
    "name": "ipython",
    "version": 3
   },
   "file_extension": ".py",
   "mimetype": "text/x-python",
   "name": "python",
   "nbconvert_exporter": "python",
   "pygments_lexer": "ipython3",
   "version": "3.9.18"
  }
 },
 "nbformat": 4,
 "nbformat_minor": 2
}
