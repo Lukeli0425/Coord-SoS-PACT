{
 "cells": [
  {
   "cell_type": "code",
   "execution_count": 15,
   "metadata": {},
   "outputs": [],
   "source": [
    "import sys\n",
    "\n",
    "sys.path.append('../')\n",
    "\n",
    "import numpy as np\n",
    "import torch\n",
    "from matplotlib import pyplot as plt\n",
    "from matplotlib.colors import LogNorm, Normalize\n",
    "from matplotlib.gridspec import GridSpec\n",
    "from tqdm import tqdm\n",
    "\n",
    "from models.DAS import DAS\n",
    "from models.PACT import TF_PACT\n",
    "from models.Wiener import Wiener_Batched\n",
    "from utils.data import *\n",
    "from utils.reconstruction import get_coordinates, wavefront_real\n",
    "from utils.simulations import *\n",
    "from utils.utils_torch import get_fourier_coord\n",
    "from utils.visualization import *\n",
    "\n",
    "device = torch.device('cuda' if torch.cuda.is_available() else 'cpu')\n",
    "\n",
    "data_path = '../data/'"
   ]
  },
  {
   "cell_type": "markdown",
   "metadata": {},
   "source": [
    "### Load data"
   ]
  },
  {
   "cell_type": "code",
   "execution_count": 16,
   "metadata": {},
   "outputs": [
    {
     "name": "stdout",
     "output_type": "stream",
     "text": [
      "Successfully loaded data from \"../data/IP.mat\".\n",
      "Successfully loaded data from \"../data/sinogram_simulation_uniform.mat\".\n",
      "Successfully loaded data from \"../data/sinogram_simulation.mat\".\n"
     ]
    }
   ],
   "source": [
    "IP_img = load_mat(os.path.join(data_path, 'IP.mat'))\n",
    "sinogram_uniform = load_mat(os.path.join(data_path, 'sinogram_simulation_uniform.mat'))\n",
    "sinogram = load_mat(os.path.join(data_path, 'sinogram_simulation.mat'))\n",
    "sinogram += np.random.normal(0, 1e-4, sinogram.shape)"
   ]
  },
  {
   "cell_type": "markdown",
   "metadata": {},
   "source": [
    "### Preparations"
   ]
  },
  {
   "cell_type": "code",
   "execution_count": 17,
   "metadata": {},
   "outputs": [],
   "source": [
    "Nx, Ny = 560, 560\n",
    "dx, dy = 4e-5, 4e-5\n",
    "kgrid = kWaveGrid([Nx, Ny], [dx, dy])\n",
    "x_vec, y_vec = kgrid.x_vec, kgrid.y_vec\n",
    "l = 3.2e-3 # Patch size [m]."
   ]
  },
  {
   "cell_type": "markdown",
   "metadata": {},
   "source": [
    "Define parameters of the single-body SOS."
   ]
  },
  {
   "cell_type": "code",
   "execution_count": 18,
   "metadata": {},
   "outputs": [
    {
     "name": "stdout",
     "output_type": "stream",
     "text": [
      "1499.3632858457756 1570\n"
     ]
    }
   ],
   "source": [
    "R = 9.8e-3              # Radius of single body [m].\n",
    "T = 26.0                # Water temperature [C].\n",
    "v0 = get_water_SoS(T)   # Background SoS [m/s].\n",
    "v1 = 1570             # Avergae SoS in single body [m/s].\n",
    "print(v0, v1)"
   ]
  },
  {
   "cell_type": "markdown",
   "metadata": {},
   "source": [
    "Pick the small patch in the intil pressure image."
   ]
  },
  {
   "cell_type": "code",
   "execution_count": 19,
   "metadata": {},
   "outputs": [
    {
     "name": "stdout",
     "output_type": "stream",
     "text": [
      "5.366563145999496 2.677945044588987\n"
     ]
    }
   ],
   "source": [
    "i, j = 18, 15\n",
    "x, y, r, phi = get_coordinates(i, j, l)\n",
    "k2D, theta2D = get_fourier_coord(n_points=80, l=l, device='cpu')\n",
    "print(r*1e3, phi)"
   ]
  },
  {
   "cell_type": "markdown",
   "metadata": {},
   "source": [
    "Define the delays for reconstruction and the elays for visualization, which is a subset of the former."
   ]
  },
  {
   "cell_type": "code",
   "execution_count": 20,
   "metadata": {},
   "outputs": [
    {
     "name": "stdout",
     "output_type": "stream",
     "text": [
      "[-2.00000000e-04  3.25260652e-19  2.00000000e-04  4.00000000e-04\n",
      "  6.00000000e-04]\n"
     ]
    }
   ],
   "source": [
    "delays = np.arange(-8e-4, 8e-4, 5e-5)\n",
    "ids_show = [12, 16, 20, 24, 28]\n",
    "delays_show = delays[ids_show]\n",
    "print(delays_show)"
   ]
  },
  {
   "cell_type": "markdown",
   "metadata": {},
   "source": [
    "### Uniform SoS"
   ]
  },
  {
   "cell_type": "code",
   "execution_count": 21,
   "metadata": {},
   "outputs": [
    {
     "data": {
      "text/plain": [
       "DAS()"
      ]
     },
     "execution_count": 21,
     "metadata": {},
     "output_type": "execute_result"
    }
   ],
   "source": [
    "das = DAS(R_ring=0.05, N_transducer=512, T_sample=1/40e6, x_vec=x_vec, y_vec=y_vec, mode='zero')\n",
    "das.to(device)\n",
    "das.eval()"
   ]
  },
  {
   "cell_type": "code",
   "execution_count": 22,
   "metadata": {},
   "outputs": [],
   "source": [
    "with torch.no_grad():\n",
    "    gt = das(sinogram=torch.tensor(sinogram_uniform, device=device),\n",
    "             v0=torch.tensor(v0, device=device),\n",
    "             d_delay=torch.zeros(1, device=device),\n",
    "             ring_error=torch.zeros(1, device=device)).detach().cpu().numpy()"
   ]
  },
  {
   "cell_type": "code",
   "execution_count": 23,
   "metadata": {},
   "outputs": [],
   "source": [
    "gt = gt[20*i:20*i+80, 20*j:20*j+80]"
   ]
  },
  {
   "cell_type": "markdown",
   "metadata": {},
   "source": [
    "### Conventional DAS"
   ]
  },
  {
   "cell_type": "code",
   "execution_count": 24,
   "metadata": {},
   "outputs": [],
   "source": [
    "with torch.no_grad():\n",
    "    rec_das = das(sinogram=torch.tensor(sinogram, device=device),\n",
    "                  v0=torch.tensor(1513.0, device=device),\n",
    "                  d_delay=torch.zeros(1, device=device),\n",
    "                  ring_error=torch.zeros(1, device=device)).detach().cpu().numpy()"
   ]
  },
  {
   "cell_type": "code",
   "execution_count": 25,
   "metadata": {},
   "outputs": [],
   "source": [
    "rec_das = rec_das[20*i:20*i+80, 20*j:20*j+80]"
   ]
  },
  {
   "cell_type": "markdown",
   "metadata": {},
   "source": [
    "### Single Body"
   ]
  },
  {
   "cell_type": "code",
   "execution_count": 26,
   "metadata": {},
   "outputs": [
    {
     "data": {
      "text/plain": [
       "Wiener_Batched()"
      ]
     },
     "execution_count": 26,
     "metadata": {},
     "output_type": "execute_result"
    }
   ],
   "source": [
    "tf_pact = TF_PACT(n_points=160, l=2*l, n_delays=delays.shape[0])\n",
    "tf_pact.to(device)\n",
    "tf_pact.eval()\n",
    "\n",
    "das = DAS(R_ring=0.05, N_transducer=512, T_sample=1/40e6, x_vec=x_vec, y_vec=y_vec, mode='zero')\n",
    "das.to(device)\n",
    "das.eval()\n",
    "\n",
    "deconv = Wiener_Batched(lam=4e-3, order=0.5)\n",
    "deconv.to(device)\n",
    "deconv.eval()"
   ]
  },
  {
   "cell_type": "code",
   "execution_count": 27,
   "metadata": {},
   "outputs": [
    {
     "name": "stderr",
     "output_type": "stream",
     "text": [
      "DAS: 100%|██████████| 32/32 [00:02<00:00, 11.04it/s]\n"
     ]
    }
   ],
   "source": [
    "img_stack = []\n",
    "with torch.no_grad():\n",
    "    for d_delay in tqdm(delays, desc='DAS'):\n",
    "        recon = das(sinogram=torch.tensor(sinogram).to(device), \n",
    "                    v0=torch.tensor(v0, device=device),\n",
    "                    d_delay=torch.tensor(d_delay, device=device),\n",
    "                    ring_error=torch.zeros(1, device=device))\n",
    "        img_stack.append(recon)\n",
    "img_stack = torch.stack(img_stack, dim=0)"
   ]
  },
  {
   "cell_type": "code",
   "execution_count": 28,
   "metadata": {},
   "outputs": [
    {
     "ename": "TypeError",
     "evalue": "TF_PACT.forward() missing 1 required positional argument: 'wfs'",
     "output_type": "error",
     "traceback": [
      "\u001b[0;31m---------------------------------------------------------------------------\u001b[0m",
      "\u001b[0;31mTypeError\u001b[0m                                 Traceback (most recent call last)",
      "Cell \u001b[0;32mIn[28], line 3\u001b[0m\n\u001b[1;32m      1\u001b[0m \u001b[38;5;66;03m# gt = IP_img[20*i:20*i+80, 20*j:20*j+80]\u001b[39;00m\n\u001b[1;32m      2\u001b[0m w_real \u001b[38;5;241m=\u001b[39m wavefront_real(R, r, phi, v0, v1)\n\u001b[0;32m----> 3\u001b[0m tf_stack \u001b[38;5;241m=\u001b[39m tf_pact(torch\u001b[38;5;241m.\u001b[39mtensor(delays, device\u001b[38;5;241m=\u001b[39mdevice)\u001b[38;5;241m.\u001b[39mview(\u001b[38;5;241m1\u001b[39m,\u001b[38;5;241m-\u001b[39m\u001b[38;5;241m1\u001b[39m,\u001b[38;5;241m1\u001b[39m,\u001b[38;5;241m1\u001b[39m), w_real)\n\u001b[1;32m      4\u001b[0m obs_stack \u001b[38;5;241m=\u001b[39m img_stack[:,\u001b[38;5;241m20\u001b[39m\u001b[38;5;241m*\u001b[39mi:\u001b[38;5;241m20\u001b[39m\u001b[38;5;241m*\u001b[39mi\u001b[38;5;241m+\u001b[39m\u001b[38;5;241m80\u001b[39m, \u001b[38;5;241m20\u001b[39m\u001b[38;5;241m*\u001b[39mj:\u001b[38;5;241m20\u001b[39m\u001b[38;5;241m*\u001b[39mj\u001b[38;5;241m+\u001b[39m\u001b[38;5;241m80\u001b[39m]\u001b[38;5;241m.\u001b[39munsqueeze(\u001b[38;5;241m0\u001b[39m)\n\u001b[1;32m      5\u001b[0m \u001b[38;5;66;03m# mean = obs_stack.abs().mean()\u001b[39;00m\n",
      "File \u001b[0;32m~/anaconda3/envs/pact/lib/python3.11/site-packages/torch/nn/modules/module.py:1532\u001b[0m, in \u001b[0;36mModule._wrapped_call_impl\u001b[0;34m(self, *args, **kwargs)\u001b[0m\n\u001b[1;32m   1530\u001b[0m     \u001b[38;5;28;01mreturn\u001b[39;00m \u001b[38;5;28mself\u001b[39m\u001b[38;5;241m.\u001b[39m_compiled_call_impl(\u001b[38;5;241m*\u001b[39margs, \u001b[38;5;241m*\u001b[39m\u001b[38;5;241m*\u001b[39mkwargs)  \u001b[38;5;66;03m# type: ignore[misc]\u001b[39;00m\n\u001b[1;32m   1531\u001b[0m \u001b[38;5;28;01melse\u001b[39;00m:\n\u001b[0;32m-> 1532\u001b[0m     \u001b[38;5;28;01mreturn\u001b[39;00m \u001b[38;5;28mself\u001b[39m\u001b[38;5;241m.\u001b[39m_call_impl(\u001b[38;5;241m*\u001b[39margs, \u001b[38;5;241m*\u001b[39m\u001b[38;5;241m*\u001b[39mkwargs)\n",
      "File \u001b[0;32m~/anaconda3/envs/pact/lib/python3.11/site-packages/torch/nn/modules/module.py:1541\u001b[0m, in \u001b[0;36mModule._call_impl\u001b[0;34m(self, *args, **kwargs)\u001b[0m\n\u001b[1;32m   1536\u001b[0m \u001b[38;5;66;03m# If we don't have any hooks, we want to skip the rest of the logic in\u001b[39;00m\n\u001b[1;32m   1537\u001b[0m \u001b[38;5;66;03m# this function, and just call forward.\u001b[39;00m\n\u001b[1;32m   1538\u001b[0m \u001b[38;5;28;01mif\u001b[39;00m \u001b[38;5;129;01mnot\u001b[39;00m (\u001b[38;5;28mself\u001b[39m\u001b[38;5;241m.\u001b[39m_backward_hooks \u001b[38;5;129;01mor\u001b[39;00m \u001b[38;5;28mself\u001b[39m\u001b[38;5;241m.\u001b[39m_backward_pre_hooks \u001b[38;5;129;01mor\u001b[39;00m \u001b[38;5;28mself\u001b[39m\u001b[38;5;241m.\u001b[39m_forward_hooks \u001b[38;5;129;01mor\u001b[39;00m \u001b[38;5;28mself\u001b[39m\u001b[38;5;241m.\u001b[39m_forward_pre_hooks\n\u001b[1;32m   1539\u001b[0m         \u001b[38;5;129;01mor\u001b[39;00m _global_backward_pre_hooks \u001b[38;5;129;01mor\u001b[39;00m _global_backward_hooks\n\u001b[1;32m   1540\u001b[0m         \u001b[38;5;129;01mor\u001b[39;00m _global_forward_hooks \u001b[38;5;129;01mor\u001b[39;00m _global_forward_pre_hooks):\n\u001b[0;32m-> 1541\u001b[0m     \u001b[38;5;28;01mreturn\u001b[39;00m forward_call(\u001b[38;5;241m*\u001b[39margs, \u001b[38;5;241m*\u001b[39m\u001b[38;5;241m*\u001b[39mkwargs)\n\u001b[1;32m   1543\u001b[0m \u001b[38;5;28;01mtry\u001b[39;00m:\n\u001b[1;32m   1544\u001b[0m     result \u001b[38;5;241m=\u001b[39m \u001b[38;5;28;01mNone\u001b[39;00m\n",
      "\u001b[0;31mTypeError\u001b[0m: TF_PACT.forward() missing 1 required positional argument: 'wfs'"
     ]
    }
   ],
   "source": [
    "# gt = IP_img[20*i:20*i+80, 20*j:20*j+80]\n",
    "w_real = wavefront_real(R, r, phi, v0, v1)\n",
    "tf_stack = tf_pact(torch.tensor(delays, device=device).view(1,-1,1,1), w_real)\n",
    "obs_stack = img_stack[:,20*i:20*i+80, 20*j:20*j+80].unsqueeze(0)\n",
    "# mean = obs_stack.abs().mean()\n",
    "rec_combined = deconv(obs_stack, tf_stack)\n",
    "rec_combined = rec_combined.squeeze(0).squeeze(0).detach().cpu().numpy()"
   ]
  },
  {
   "cell_type": "code",
   "execution_count": null,
   "metadata": {},
   "outputs": [],
   "source": [
    "recs = []\n",
    "for idx, delay in zip(ids_show, delays_show):\n",
    "    tf = tf_stack[:,idx:idx+1,:,:]\n",
    "    obs = obs_stack[:,idx:idx+1,:,:]\n",
    "    rec = deconv(obs, tf)\n",
    "    rec = rec.squeeze(0).squeeze(0).detach().cpu().numpy()\n",
    "    recs.append(rec)"
   ]
  },
  {
   "cell_type": "code",
   "execution_count": null,
   "metadata": {},
   "outputs": [],
   "source": [
    "recs = [normalize(img) for img in recs]\n",
    "[rec_das, rec_combined, gt] = [normalize(img) for img in [rec_das, rec_combined, gt]]"
   ]
  },
  {
   "cell_type": "code",
   "execution_count": null,
   "metadata": {},
   "outputs": [],
   "source": [
    "rs = [0, R/4, r, 3*R/4, R]\n",
    "best_ids = [3,3,3,2,1]\n",
    "\n",
    "fig, main_ax = plt.subplots(figsize=(20, 22))\n",
    "gs = GridSpec(21, 21)\n",
    "norm_img = Normalize(vmin=0, vmax=1)\n",
    "norm_psf = Normalize(vmin=3e-4, vmax=0.01)\n",
    "for i, r_i in enumerate(rs):\n",
    "    w_real = wavefront_real(R, r_i, phi, v0, v1)\n",
    "    for j, delay in enumerate(delays_show):\n",
    "        psf = PSF(theta2D, k2D, w_real, delay)\n",
    "        psf = np.maximum(psf, 1e-5)\n",
    "        ax = plt.subplot(gs[12-3*j:15-3*j,3*i:3*(i+1)])\n",
    "        plt.imshow(psf, cmap='gray')#, norm=norm_psf)\n",
    "        plt.xticks([])\n",
    "        plt.yticks([])\n",
    "        plt.title('$\\kappa$={:.1f}'.format(condition_number(psf)), fontsize=13, loc='left', y=0.0, x=0.03, color='white')\n",
    "        if i == 0:\n",
    "            plt.ylabel('Delay={:.2f}mm'.format(delays_show[j]*1e3), fontsize=15)\n",
    "            if j == 4:\n",
    "                plt.title('a', loc='center', x=-0.12, y=1.02, fontsize=35, fontweight='bold', color='black')\n",
    "        # elif i == 4:\n",
    "        #     cax = fig.add_axes([ax.get_position().x1+0.008, ax.get_position().y0, 0.01, ax.get_position().height])\n",
    "        #     cb = plt.colorbar(cax=cax)\n",
    "            # cb.set_ticks([3e-4, 0.04])\n",
    "            # cb.set_ticklabels(['Min', 'Max'], fontsize=13.5)\n",
    "        if j == 0:\n",
    "            ax.set_title('r={:.2f}mm'.format(r_i*1e3), fontsize=15, y=-0.2)\n",
    "        elif j == best_ids[i]:\n",
    "            for loc in ['bottom', 'top', 'left', 'right']:\n",
    "                ax.spines[loc].set_color('red')\n",
    "                ax.spines[loc].set_linewidth(5)\n",
    "\n",
    "                \n",
    "for j, delay in enumerate(delays_show):\n",
    "    ax = plt.subplot(gs[3*(4-j):3*(5-j),17:20])\n",
    "    plt.xticks([])\n",
    "    plt.yticks([])\n",
    "    plt.imshow(recs[j], cmap='gray', norm=norm_img)\n",
    "    if j == 0:\n",
    "        ax.set_title('r={:.2f}mm'.format(rs[2]*1e3), fontsize=15, y=-0.2)\n",
    "    elif j == 4:\n",
    "        plt.title('b', loc='center', x=-0.11, y=1.02, fontsize=35, fontweight='bold', color='black')\n",
    "    elif j == best_ids[2]:\n",
    "        for loc in ['bottom', 'top', 'left', 'right']:\n",
    "            ax.spines[loc].set_color('red')\n",
    "            ax.spines[loc].set_linewidth(4)\n",
    "         \n",
    "    cax = fig.add_axes([ax.get_position().x1+0.008, ax.get_position().y0, 0.01, ax.get_position().height])\n",
    "    cb = plt.colorbar(cax=cax)\n",
    "    cb.set_ticks([0, 1])\n",
    "    cb.set_ticklabels(['Min', 'Max'], fontsize=13.5)\n",
    "\n",
    "for j, (img, title) in enumerate(zip([rec_das, recs[best_ids[2]], rec_combined, gt], ['Conventional DAS', 'Optimal PSF only', 'Multi-channel deconv', 'Ground Truth'])):\n",
    "    ax = plt.subplot(gs[16:21,5*j:5*(j+1)])\n",
    "    plt.xticks([])\n",
    "    plt.yticks([])\n",
    "    plt.imshow(img, cmap='gray', norm=norm_img)\n",
    "    plt.title(title, fontsize=20, fontweight='bold')\n",
    "    if j == 0:\n",
    "        plt.title('c', loc='left', x=-0.12, y=1.02, fontsize=35, fontweight='bold', color='black')\n",
    "    elif j == 1:\n",
    "        plt.arrow(8, 10, 3, -3, color='red', linewidth=3.5, head_width=3, head_length=3)\n",
    "        plt.arrow(8, 46, -3, 3, color='red', linewidth=3.5, head_width=3, head_length=3)\n",
    "    elif j == 3:\n",
    "        cax = fig.add_axes([ax.get_position().x1+0.008, ax.get_position().y0, 0.012, ax.get_position().height])\n",
    "        cb = plt.colorbar(cax=cax)\n",
    "        cb.set_ticks([0, 1])\n",
    "        cb.set_ticklabels(['Min', 'Max'], fontsize=15)\n",
    "\n",
    "main_ax.set_zorder(20)\n",
    "main_ax.axis('off')\n",
    "main_ax.set_xlim(0, 21)\n",
    "main_ax.set_ylim(0, 21)\n",
    "y1, y2 = 5.6, 20.96\n",
    "x1, x2 = 5.96, 8.99\n",
    "x3, x4 = 17.04, 20.1\n",
    "main_ax.plot([x1, x1, x2, x2, x1], [y1, y2, y2, y1, y1], color='blue', linewidth=5)\n",
    "main_ax.plot([x3, x3, x4, x4, x3], [y1, y2, y2, y1, y1], color='blue', linewidth=5)\n",
    "\n",
    "plt.savefig('figure_refocusing.png', dpi=256, bbox_inches='tight')"
   ]
  },
  {
   "cell_type": "code",
   "execution_count": null,
   "metadata": {},
   "outputs": [],
   "source": []
  }
 ],
 "metadata": {
  "kernelspec": {
   "display_name": "pact",
   "language": "python",
   "name": "python3"
  },
  "language_info": {
   "codemirror_mode": {
    "name": "ipython",
    "version": 3
   },
   "file_extension": ".py",
   "mimetype": "text/x-python",
   "name": "python",
   "nbconvert_exporter": "python",
   "pygments_lexer": "ipython3",
   "version": "3.11.9"
  }
 },
 "nbformat": 4,
 "nbformat_minor": 2
}
