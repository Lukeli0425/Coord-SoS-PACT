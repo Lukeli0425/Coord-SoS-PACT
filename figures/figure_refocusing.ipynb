{
 "cells": [
  {
   "cell_type": "code",
   "execution_count": 3,
   "metadata": {},
   "outputs": [],
   "source": [
    "import sys\n",
    "\n",
    "sys.path.append('../')\n",
    "\n",
    "import numpy as np\n",
    "import torch\n",
    "from matplotlib import pyplot as plt\n",
    "from scipy.special import ellipe\n",
    "from torch.fft import fftshift, fft2, ifft2, ifftn, ifftshift\n",
    "from utils.simulations import *"
   ]
  },
  {
   "cell_type": "code",
   "execution_count": 4,
   "metadata": {},
   "outputs": [
    {
     "name": "stdout",
     "output_type": "stream",
     "text": [
      "1508.0046878478038 1567.3\n"
     ]
    }
   ],
   "source": [
    "R = 9.8e-3              # Radius of single body [m].\n",
    "T = 29.5                # Water temperature [C].\n",
    "v0 = get_water_SoS(T)   # Background SoS [m/s].\n",
    "v1 = 1567.3             # Avergae SoS in single body [m/s].\n",
    "print(v0, v1)"
   ]
  },
  {
   "cell_type": "code",
   "execution_count": null,
   "metadata": {},
   "outputs": [],
   "source": []
  }
 ],
 "metadata": {
  "kernelspec": {
   "display_name": "pact",
   "language": "python",
   "name": "python3"
  },
  "language_info": {
   "codemirror_mode": {
    "name": "ipython",
    "version": 3
   },
   "file_extension": ".py",
   "mimetype": "text/x-python",
   "name": "python",
   "nbconvert_exporter": "python",
   "pygments_lexer": "ipython3",
   "version": "3.9.18"
  }
 },
 "nbformat": 4,
 "nbformat_minor": 2
}
