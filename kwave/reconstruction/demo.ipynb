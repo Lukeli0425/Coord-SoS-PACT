{
 "cells": [
  {
   "cell_type": "markdown",
   "metadata": {},
   "source": [
    "# import package"
   ]
  },
  {
   "cell_type": "code",
   "execution_count": 1,
   "metadata": {},
   "outputs": [],
   "source": [
    "import sys\n",
    "import logging\n",
    "import os\n",
    "from tkinter import W\n",
    "# 把当前文件所在文件夹的父文件夹路径加入到PYTHONPATH\n",
    "sys.path.append(\"D:\\Tsinghua\\Biooptics\\K-wave\\k-wave-python-master\\k-wave-python-master\")\n",
    "from kwave.kgrid import kWaveGrid\n",
    "from numpy.fft import fftshift,fftn,ifftn,ifftshift\n",
    "from scipy.interpolate import interp2d\n",
    "from kwave.utils.interputils import interpolate2D\n",
    "import numpy as np\n",
    "import scipy.io as scio\n",
    "from scipy.io import savemat\n",
    "import matplotlib.pyplot as plt\n",
    "import cv2\n"
   ]
  },
  {
   "cell_type": "code",
   "execution_count": 14,
   "metadata": {},
   "outputs": [
    {
     "name": "stderr",
     "output_type": "stream",
     "text": [
      "C:\\Users\\13987\\AppData\\Local\\Temp\\ipykernel_14984\\4007094421.py:14: RuntimeWarning: divide by zero encountered in true_divide\n",
      "  sf = (c**2)*((np.sqrt((w/c)**2-c0**2)))/(2*w)\n",
      "C:\\Users\\13987\\AppData\\Local\\Temp\\ipykernel_14984\\4007094421.py:14: RuntimeWarning: invalid value encountered in true_divide\n",
      "  sf = (c**2)*((np.sqrt((w/c)**2-c0**2)))/(2*w)\n"
     ]
    }
   ],
   "source": [
    "filepath = \"D:\\Tsinghua\\Biooptics/linear_array/data/linear/1.mat\"\n",
    "data = scio.loadmat(filepath)\n",
    "sinogram = data['linear']\n",
    "sinogram = np.concatenate((np.flip(sinogram,1),sinogram[:,1:]),axis=1)\n",
    "Ny,Nt = sinogram.shape\n",
    "c = 1500 #sound speed\n",
    "dt = 2e-8\n",
    "dy = 1e-4 #换能器间隔\n",
    "kgrid =  kWaveGrid([Ny,  Nt], [dt ,dt*c])\n",
    "w = np.complex128(c*kgrid.kx)\n",
    "w_new = kgrid.k*c\n",
    "c0 = np.complex128(kgrid.ky)\n",
    "sf = np.zeros((Ny,Nt), dtype=complex)\n",
    "sf = (c**2)*((np.sqrt((w/c)**2-c0**2)))/(2*w)\n",
    "sf[(w==0) ] = c/2\n",
    "p = np.zeros((Ny,Nt), dtype=complex)\n",
    "p = sf*fftshift(fftn(ifftshift(sinogram)))\n",
    "p[np.abs(w)<np.abs(c*kgrid.ky)]=0\n",
    "p = interpolate2D([w,kgrid.ky],p,[kgrid.kx,kgrid.ky])\n",
    "p = np.nan_to_num(p,nan=0)\n",
    "p = np.real(fftshift(ifftn(ifftshift(p))))\n",
    "p = 2 * 2 * p / c;\n",
    "\n",
    "savemat('d1.mat',{'p1':p,'kx':kgrid.kx,'k':kgrid.k,'s':sinogram,'sf1':sf})"
   ]
  },
  {
   "cell_type": "code",
   "execution_count": 16,
   "metadata": {},
   "outputs": [
    {
     "data": {
      "image/png": "[encoded data removed]",
      "text/plain": [
       "<Figure size 432x288 with 1 Axes>"
      ]
     },
     "metadata": {
      "needs_background": "light"
     },
     "output_type": "display_data"
    }
   ],
   "source": [
    "plt.imshow(p)\n",
    "plt.show()\n"
   ]
  },
  {
   "cell_type": "code",
   "execution_count": 20,
   "metadata": {},
   "outputs": [
    {
     "name": "stderr",
     "output_type": "stream",
     "text": [
      "C:\\Users\\13987\\AppData\\Local\\Temp\\ipykernel_14984\\3484892836.py:14: RuntimeWarning: divide by zero encountered in true_divide\n",
      "  sf = (c**2)*((np.sqrt((w/c)**2-c0**2)))/(2*w)\n",
      "C:\\Users\\13987\\AppData\\Local\\Temp\\ipykernel_14984\\3484892836.py:14: RuntimeWarning: invalid value encountered in true_divide\n",
      "  sf = (c**2)*((np.sqrt((w/c)**2-c0**2)))/(2*w)\n"
     ]
    }
   ],
   "source": [
    "filepath = \"D:\\Tsinghua\\Biooptics/linear_array/data/linear/1.mat\"\n",
    "data = scio.loadmat(filepath)\n",
    "sinogram = data['linear']\n",
    "c = 1500 #sound speed\n",
    "dt = 2e-8\n",
    "dy = 1e-4 #换能器间隔\n",
    "sinogram = np.concatenate((np.flip(sinogram,0),sinogram[1:,:]))\n",
    "Nt,Ny = sinogram.shape\n",
    "kgrid = kWaveGrid([Nt,  Ny], [dt*c ,dy])\n",
    "w = np.complex128(c*kgrid.kx)\n",
    "w_new = kgrid.k*c\n",
    "c0 = np.complex128(kgrid.ky)\n",
    "sf = np.zeros((Nt,Ny), dtype=complex)\n",
    "sf = (c**2)*((np.sqrt((w/c)**2-c0**2)))/(2*w)\n",
    "p = np.nan_to_num(p,nan=c/2)\n",
    "p = np.zeros((Nt,Ny), dtype=complex)\n",
    "p = sf*fftshift(fftn(ifftshift(sinogram)))\n",
    "p[np.abs(w)<np.abs(c*kgrid.ky)]=0\n",
    "p = interpolate2D([w,kgrid.ky],p,[kgrid.kx,kgrid.ky])\n",
    "p = np.nan_to_num(p,nan=0)\n",
    "p = np.real(fftshift(ifftn(ifftshift(p))))\n",
    "p = 2 * 2 * p / c;\n"
   ]
  },
  {
   "cell_type": "code",
   "execution_count": 19,
   "metadata": {},
   "outputs": [
    {
     "data": {
      "text/plain": [
       "<matplotlib.image.AxesImage at 0x248f9a6cbe0>"
      ]
     },
     "execution_count": 19,
     "metadata": {},
     "output_type": "execute_result"
    },
    {
     "data": {
      "image/png": "[encoded data removed]",
      "text/plain": [
       "<Figure size 432x288 with 1 Axes>"
      ]
     },
     "metadata": {
      "needs_background": "light"
     },
     "output_type": "display_data"
    }
   ],
   "source": [
    "plt.imshow(p)"
   ]
  },
  {
   "cell_type": "code",
   "execution_count": null,
   "metadata": {},
   "outputs": [],
   "source": []
  }
 ],
 "metadata": {
  "kernelspec": {
   "display_name": "Python 3.8.8 ('pytorch')",
   "language": "python",
   "name": "python3"
  },
  "language_info": {
   "codemirror_mode": {
    "name": "ipython",
    "version": 3
   },
   "file_extension": ".py",
   "mimetype": "text/x-python",
   "name": "python",
   "nbconvert_exporter": "python",
   "pygments_lexer": "ipython3",
   "version": "3.8.8"
  },
  "orig_nbformat": 4,
  "vscode": {
   "interpreter": {
    "hash": "83b799c6bbc69a021b1437c2b0ed4cea796402fe1be5bb0832aa5ff2d19c1075"
   }
  }
 },
 "nbformat": 4,
 "nbformat_minor": 2
}
